{
 "cells": [
  {
   "cell_type": "code",
   "execution_count": null,
   "metadata": {
    "id": "RBYmHRCiHWI7"
   },
   "outputs": [],
   "source": [
    "# !pip install deepchem -q\n",
    "!pip install scikit-learn==1.0.2\n",
    "!pip install XlsxWriter\n",
    "\n",
    "#import the necessary libraries\n",
    "import os\n",
    "import numpy as np\n",
    "from sklearn.preprocessing import normalize\n",
    "from sklearn.utils import shuffle\n",
    "import math\n",
    "from sklearn.ensemble import RandomForestRegressor\n",
    "from numpy import inf\n",
    "from imblearn.over_sampling import SMOTE\n",
    "from imblearn.over_sampling import BorderlineSMOTE\n",
    "from imblearn.over_sampling import SVMSMOTE\n",
    "from imblearn.over_sampling import ADASYN\n",
    "from imblearn.over_sampling import RandomOverSampler\n",
    "import pandas as pd\n",
    "from pandas import DataFrame\n",
    "import warnings\n",
    "warnings.filterwarnings(\"ignore\")\n",
    "import matplotlib.pyplot as plt\n",
    "import torch\n",
    "import torch.nn as nn\n",
    "\n",
    "from sklearn.preprocessing import StandardScaler\n",
    "from sklearn.model_selection import train_test_split\n",
    "\n",
    "from rdkit import Chem\n",
    "from rdkit.Chem import AllChem, DataStructs\n",
    "\n",
    "from sklearn.metrics import mean_absolute_error, r2_score, mean_squared_error\n",
    "from sklearn.feature_selection import VarianceThreshold\n",
    "\n",
    "from torch.utils.data import TensorDataset\n",
    "\n",
    "from tqdm import tqdm\n",
    "from math import sqrt\n",
    "from rdkit.Chem import rdMolDescriptors\n",
    "import random\n",
    "\n",
    "from sklearn.model_selection import train_test_split\n",
    "from imblearn.over_sampling import RandomOverSampler\n",
    "\n",
    "!pip install -U geometric-smote\n",
    "from gsmote import GeometricSMOTE\n",
    "#from sklearn.datasets import make_classification\n",
    "from sklearn.model_selection import train_test_split"
   ]
  },
  {
   "cell_type": "code",
   "execution_count": null,
   "metadata": {
    "id": "_ACEFX4RIFot"
   },
   "outputs": [],
   "source": [
    "df=pd.read_excel(\"./866-reaction-mean-std-cv-1-20-encoding-vector.xlsx\")\n",
    "df.drop(columns=['Sl. No.'], inplace=True)\n",
    "df=df.iloc[:692]\n",
    "descriptor_data=df.drop(columns=['label'])"
   ]
  },
  {
   "cell_type": "code",
   "execution_count": null,
   "metadata": {
    "id": "yqwQzFH8IhBc"
   },
   "outputs": [],
   "source": [
    "#------------Stratified data splitting into train, validation and test sets before oversampling-----------\n",
    "#beware of data leakage always; split first always\n",
    "random_state=51\n",
    "y_class=[]\n",
    "boundary=53\n",
    "for i in descriptor_data['Yield']:\n",
    "  if i<=boundary:\n",
    "    y_class.append(0)\n",
    "  elif i>boundary:\n",
    "    y_class.append(1)\n",
    "print(len(y_class))\n",
    "print('Number of reactions below boundary:', y_class.count(0), 'and above boundary:', y_class.count(1))"
   ]
  },
  {
   "cell_type": "code",
   "execution_count": null,
   "metadata": {
    "id": "JM5xACOkIi81"
   },
   "outputs": [],
   "source": [
    "#preparing train_val and test set\n",
    "train_ , test_df = train_test_split(descriptor_data, test_size=0.20, random_state=random_state, stratify=y_class) #preparing train_val and test set\n",
    "y_class2=[]\n",
    "boundary=53\n",
    "for i in train_['Yield']:\n",
    "  if i<=boundary:\n",
    "    y_class2.append(0)\n",
    "  elif i>boundary:\n",
    "    y_class2.append(1)\n",
    "print('Number of reactions below boundary:', y_class2.count(0), 'and above boundary:', y_class2.count(1))\n",
    "train_df, valid_df = train_test_split(train_, test_size=0.125, random_state=random_state, stratify=y_class2) #preparing train and val set\n",
    "print('Data shapes:', train_df.shape, valid_df.shape, test_df.shape)\n",
    "\n",
    "print(train_df.shape)\n",
    "print(valid_df.shape)\n",
    "print(test_df.shape)"
   ]
  },
  {
   "cell_type": "code",
   "execution_count": null,
   "metadata": {
    "id": "KNpYyDrWIi_a"
   },
   "outputs": [],
   "source": [
    "def smote(train_df,  smote_type, boundary):\n",
    "    #selection of type of smote\n",
    "    if smote_type=='regular':\n",
    "      sm=SMOTE(random_state=42)\n",
    "      print(sm)\n",
    "    if smote_type=='borderline-1':\n",
    "      sm=BorderlineSMOTE(kind=smote_type, random_state=42)\n",
    "      print(sm)\n",
    "    elif smote_type=='borderline-2':\n",
    "      sm=BorderlineSMOTE(kind=smote_type, random_state=42)\n",
    "      print(sm)\n",
    "    elif smote_type=='svm':\n",
    "      sm=SVMSMOTE(random_state=42)\n",
    "      print(sm)\n",
    "    elif smote_type=='GeometricSMOTE':\n",
    "      sm=GeometricSMOTE(random_state=42,n_jobs=1,deformation_factor=0.2,truncation_factor=0.2,k_neighbors=6,selection_strategy='minority')\n",
    "      print(sm)\n",
    "    elif smote_type=='random':\n",
    "      sm=RandomOverSampler()\n",
    "      print(sm)\n",
    "    #adding the label column with the condition\n",
    "    label=[]\n",
    "    for i in train_df['Yield']:\n",
    "        if i <=boundary:\n",
    "            label.append(0)\n",
    "        else:\n",
    "            label.append(1)\n",
    "    train_df['label']=label\n",
    "    X=train_df.iloc[:, :-1]\n",
    "    y=train_df.iloc[:, -1]\n",
    "    X_aug, y_aug = sm.fit_resample(X, y)\n",
    "    return X_aug"
   ]
  },
  {
   "cell_type": "code",
   "execution_count": null,
   "metadata": {
    "id": "6M9asNV4IjDL"
   },
   "outputs": [],
   "source": [
    "train_df_aug=smote(train_df, smote_type='regular', boundary=53)"
   ]
  },
  {
   "cell_type": "code",
   "execution_count": null,
   "metadata": {
    "id": "oHyFeJudIjGw"
   },
   "outputs": [],
   "source": [
    "train_df_aug.to_csv('smote-regular.csv', index = False)"
   ]
  },
  {
   "cell_type": "code",
   "execution_count": null,
   "metadata": {
    "id": "bs0MUdxOIjJ7"
   },
   "outputs": [],
   "source": []
  }
 ],
 "metadata": {
  "colab": {
   "authorship_tag": "ABX9TyPTyOAlKpujWTQzypJiMXtO",
   "provenance": []
  },
  "kernelspec": {
   "display_name": "ulmfit",
   "language": "python",
   "name": "ulmfit"
  },
  "language_info": {
   "codemirror_mode": {
    "name": "ipython",
    "version": 3
   },
   "file_extension": ".py",
   "mimetype": "text/x-python",
   "name": "python",
   "nbconvert_exporter": "python",
   "pygments_lexer": "ipython3",
   "version": "3.7.12"
  }
 },
 "nbformat": 4,
 "nbformat_minor": 4
}
