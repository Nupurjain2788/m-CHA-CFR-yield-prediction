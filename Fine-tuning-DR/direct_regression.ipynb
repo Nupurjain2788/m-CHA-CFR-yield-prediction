{
 "cells": [
  {
   "cell_type": "code",
   "execution_count": 22,
   "id": "592611d2",
   "metadata": {},
   "outputs": [],
   "source": [
    "# Import necessary libraries\n",
    "import os\n",
    "import sys\n",
    "import torch\n",
    "import random\n",
    "import threading\n",
    "import numpy as np\n",
    "import pandas as pd\n",
    "from pathlib import Path\n",
    "\n",
    "# Set environment variables for GPU and device configuration\n",
    "# os.environ['CUDA_VISIBLE_DEVICES'] = '5'  # Uncomment to set a different GPU\n",
    "%env CUDA_VISIBLE_DEVICES=4\n",
    "device = torch.device('cuda:4' if torch.cuda.is_available() else \"cpu\")\n",
    "\n",
    "# Add custom paths to the Python environment\n",
    "sys.path.append('./fastai1/')\n",
    "\n",
    "# Disable RDKit warning messages\n",
    "from rdkit import Chem\n",
    "from rdkit.Chem import Draw\n",
    "from rdkit.Chem.Draw import IPythonConsole\n",
    "from rdkit import RDLogger\n",
    "RDLogger.DisableLog('rdApp.*')\n",
    "\n",
    "# Import FastAI modules\n",
    "from fastai import *\n",
    "from fastai.text import *\n",
    "from fastai.vision import *\n",
    "from fastai.imports import *\n",
    "\n",
    "# Import PyTorch and related libraries\n",
    "import torch.nn.functional as F\n",
    "import torchvision\n",
    "\n",
    "# Import Scikit-learn utilities\n",
    "from sklearn.utils import shuffle\n",
    "from sklearn.model_selection import train_test_split\n",
    "\n",
    "# Display the current working directory\n",
    "current_path = os.getcwd()\n",
    "print(f\"Current working directory: {current_path}\")\n",
    "\n",
    "# Enable interactive features for Jupyter Notebook\n",
    "%reload_ext autoreload\n",
    "%autoreload 2\n",
    "%matplotlib inline\n"
   ]
  },
  {
   "cell_type": "code",
   "execution_count": 23,
   "id": "35776b30",
   "metadata": {},
   "outputs": [],
   "source": [
    "# Don't include the defalut specific token of fastai, only keep the padding token\n",
    "BOS,EOS,FLD,UNK,PAD = 'xxbos','xxeos','xxfld','xxunk','xxpad'\n",
    "TK_MAJ,TK_UP,TK_REP,TK_WREP = 'xxmaj','xxup','xxrep','xxwrep'\n",
    "defaults.text_spec_tok = [PAD]\n",
    "\n",
    "special_tokens = ['[BOS]', '[C@H]', '[C@@H]','[C@]', '[C@@]','[C-]','[C+]', '[c-]', '[c+]','[cH-]',\n",
    "                   '[nH]', '[N+]', '[N-]', '[n+]', '[n-]' '[NH+]', '[NH2+]',\n",
    "                   '[O-]', '[S+]', '[s+]', '[S-]', '[O+]', '[SH]', '[B-]','[BH2-]', '[BH3-]','[b-]',\n",
    "                   '[PH]','[P+]', '[I+]',\n",
    "                  '[Si]','[SiH2]', '[Se]','[SeH]', '[se]', '[Se+]', '[se+]','[te]','[te+]', '[Te]',\n",
    "                  '[Pd+2]', '[Cs+]','[N@@+]','[Na+]','[OH-]','[N@]','[K+]','[F-]','[Rh]','[Ag+]','[Si]', \n",
    "                  '[Pd]', '[Cs2+]', '[Cu]', '[Cu+2]', '[Ge]', '[Sb-]', '[Cl+]', '[Cl-]', '[Br-]', '[NH4+]', \n",
    "                  '[P-]',\n",
    "                  ]\n",
    "\n",
    "class MolTokenizer(BaseTokenizer):\n",
    "    def __init__(self, lang = 'en', special_tokens = special_tokens):\n",
    "        self.lang = lang\n",
    "        self.special_tokens = special_tokens\n",
    "\n",
    "    def tokenizer(self, smiles):\n",
    "        # add specific token '[BOS]' to represetences the start of SMILES\n",
    "        smiles = '[BOS]' + smiles\n",
    "        regex = '(\\[[^\\[\\]]{1,10}\\])'\n",
    "        char_list = re.split(regex, smiles)\n",
    "        tokens = []\n",
    "\n",
    "        if self.special_tokens:\n",
    "            for char in char_list:\n",
    "                if char.startswith('['):\n",
    "                    if char in special_tokens:\n",
    "                        tokens.append(str(char))\n",
    "                    else:\n",
    "                        tokens.append('[UNK]')\n",
    "                else:\n",
    "                    chars = [unit for unit in char]\n",
    "                    [tokens.append(i) for i in chars]\n",
    "\n",
    "        if not self.special_tokens:\n",
    "            for char in char_list:\n",
    "                if char.startswith('['):\n",
    "                    tokens.append(str(char))\n",
    "                else:\n",
    "                    chars = [unit for unit in char]\n",
    "                    [tokens.append(i) for i in chars]\n",
    "\n",
    "        #fix the 'Br' be splited into 'B' and 'r'\n",
    "        if 'B' in tokens:\n",
    "            for index, tok in enumerate(tokens):\n",
    "                if tok == 'B':\n",
    "                    if index < len(tokens)-1: # make sure 'B' is not the last character\n",
    "                        if tokens[index+1] == 'r':\n",
    "                            tokens[index: index+2] = [reduce(lambda i, j: i + j, tokens[index : index+2])]\n",
    "\n",
    "        #fix the 'Cl' be splited into 'C' and 'l'\n",
    "        if 'l' in tokens:\n",
    "            for index, tok in enumerate(tokens):\n",
    "                if tok == 'l':\n",
    "                    if tokens[index-1] == 'C':\n",
    "                            tokens[index-1: index+1] = [reduce(lambda i, j: i + j, tokens[index-1 : index+1])]\n",
    "        return tokens\n",
    "\n",
    "    def add_special_cases(self, toks):\n",
    "        pass\n",
    "    \n"
   ]
  },
  {
   "cell_type": "code",
   "execution_count": 24,
   "id": "3a16d015",
   "metadata": {},
   "outputs": [],
   "source": [
    "def random_seed(seed_value, use_cuda):\n",
    "    np.random.seed(seed_value) # cpu vars\n",
    "    torch.manual_seed(seed_value) # cpu  vars\n",
    "    random.seed(seed_value) # Python\n",
    "    if use_cuda:\n",
    "        torch.cuda.manual_seed(seed_value)\n",
    "        torch.cuda.manual_seed_all(seed_value) # gpu vars\n",
    "        torch.backends.cudnn.deterministic = True  #needed\n",
    "        torch.backends.cudnn.benchmark = False"
   ]
  },
  {
   "cell_type": "code",
   "execution_count": 37,
   "id": "1c3ce6c6",
   "metadata": {},
   "outputs": [],
   "source": [
    "def randomize_smiles(smiles):\n",
    "    m = Chem.MolFromSmiles(smiles)\n",
    "    ans = list(range(m.GetNumAtoms()))\n",
    "    np.random.shuffle(ans)\n",
    "    nm = Chem.RenumberAtoms(m,ans)\n",
    "    return Chem.MolToSmiles(nm, canonical=False, isomericSmiles=True, kekuleSmiles=False)\n",
    "from rdkit import Chem\n"
   ]
  },
  {
   "cell_type": "code",
   "execution_count": 38,
   "id": "1ba58a9b",
   "metadata": {},
   "outputs": [],
   "source": [
    "def ee_smiles_augmentation(df, N_rounds, noise):\n",
    "    '''\n",
    "    noise: add gaussion noise to the label\n",
    "    '''\n",
    "    dist_aug = {col_name: [] for col_name in df}\n",
    "\n",
    "    for i in range(df.shape[0]):\n",
    "        for j in range(N_rounds):\n",
    "            dist_aug['smiles'].append(randomize_smiles(df.iloc[i].smiles))\n",
    "            dist_aug['Yield'].append(df.iloc[i]['Yield'] + np.random.normal(0,noise))\n",
    "    print(len(dist_aug['smiles']))\n",
    "    print(len(dist_aug['Yield']))\n",
    "    #print(len(smiles))\n",
    "    df_aug = pd.DataFrame.from_dict(dist_aug)\n",
    "    df_aug = df_aug.append(df, ignore_index=True)\n",
    "    return df_aug.drop_duplicates('smiles')"
   ]
  },
  {
   "cell_type": "code",
   "execution_count": 39,
   "id": "912231c8",
   "metadata": {},
   "outputs": [],
   "source": [
    "def test_smiles_augmentation(df, N_rounds):\n",
    "    dist_aug = {col_name: [] for col_name in df}\n",
    "\n",
    "    for i in range(df.shape[0]):\n",
    "        for j in range(N_rounds):\n",
    "            dist_aug['smiles'].append(randomize_smiles(df.iloc[i].smiles))\n",
    "            dist_aug['Yield'].append(df.iloc[i]['Yield'])\n",
    "    df_aug = pd.DataFrame.from_dict(dist_aug)\n",
    "\n",
    "    return pd.DataFrame.from_dict(dist_aug)"
   ]
  },
  {
   "cell_type": "code",
   "execution_count": 40,
   "id": "0d82ce4e",
   "metadata": {},
   "outputs": [],
   "source": [
    "random_seed(1234, True)\n",
    "\n",
    "# Create a path to save the results\n",
    "data_path = Path('/raid/aiccg/rbsunoj/supratim/ulmfit/results')\n",
    "name = 'regressor1'\n",
    "path = data_path / name\n",
    "path.mkdir(exist_ok=True, parents=True)"
   ]
  },
  {
   "cell_type": "code",
   "execution_count": 42,
   "id": "837ad478",
   "metadata": {},
   "outputs": [
    {
     "name": "stdout",
     "output_type": "stream",
     "text": [
      "Processing sheet: 866-reaction-yield-CV_1\n",
      "                                                smiles  Yield\n",
      "0    O=S(CC1=CC(Cl)=CC=C1)(OC2=C(C#N)C=CC(OC)=C2)=O...     57\n",
      "1    O=S(C1=CC(C(CC(C)C)(C#N)CC(C)C)=C(OC)C=C1)(N2[...     74\n",
      "2    O=S(CC1=CC=CC=C1)(OC2=C(C#N)C=CC=C2)=O.O=C(/C=...     63\n",
      "3    O=C(N(C1=CC=CC=C1F)C2=C(C#N)C=CC=C2)CCC3=CC(OC...     50\n",
      "4    O=S(CC1=CC=CC=C1)(OC2=C(C#N)C=CC=C2)=O.C=CC(OC...     56\n",
      "..                                                 ...    ...\n",
      "861  O=S(CC1=CC(/C=C/C(OCC2=CC=C(C(C)C)C=C2)=O)=CC=...     61\n",
      "862  O=C(OC1=C(C#N)C=CC(OC)=C1)CCC2=CC=CC=C2.BrC#CC...     70\n",
      "863  O=C(OC1=C(C#N)C=CC=C1)CC2=CC=C(F)C=C2.C=CC(OCC...     69\n",
      "864  O=S(CCC1=CC=CC=C1)(OC2=C(C#N)C=C(/C=C/C(OCC)=O...     50\n",
      "865  O=C(N(C1=C(C#N)C=CC=C1)C2=CC=CC=C2C#N)CC3=C(OC...     80\n",
      "\n",
      "[866 rows x 2 columns]\n",
      "30250\n",
      "30250\n",
      "Train_aug:  (30855, 2)\n"
     ]
    },
    {
     "data": {
      "text/html": [
       "\n",
       "<style>\n",
       "    /* Turns off some styling */\n",
       "    progress {\n",
       "        /* gets rid of default border in Firefox and Opera. */\n",
       "        border: none;\n",
       "        /* Needs to be in here for Safari polyfill so background images work as expected. */\n",
       "        background-size: auto;\n",
       "    }\n",
       "    progress:not([value]), progress:not([value])::-webkit-progress-bar {\n",
       "        background: repeating-linear-gradient(45deg, #7e7e7e, #7e7e7e 10px, #5c5c5c 10px, #5c5c5c 20px);\n",
       "    }\n",
       "    .progress-bar-interrupted, .progress-bar-interrupted::-webkit-progress-bar {\n",
       "        background: #F44336;\n",
       "    }\n",
       "</style>\n"
      ],
      "text/plain": [
       "<IPython.core.display.HTML object>"
      ]
     },
     "metadata": {},
     "output_type": "display_data"
    },
    {
     "data": {
      "text/html": [],
      "text/plain": [
       "<IPython.core.display.HTML object>"
      ]
     },
     "metadata": {},
     "output_type": "display_data"
    },
    {
     "data": {
      "text/html": [
       "\n",
       "<style>\n",
       "    /* Turns off some styling */\n",
       "    progress {\n",
       "        /* gets rid of default border in Firefox and Opera. */\n",
       "        border: none;\n",
       "        /* Needs to be in here for Safari polyfill so background images work as expected. */\n",
       "        background-size: auto;\n",
       "    }\n",
       "    progress:not([value]), progress:not([value])::-webkit-progress-bar {\n",
       "        background: repeating-linear-gradient(45deg, #7e7e7e, #7e7e7e 10px, #5c5c5c 10px, #5c5c5c 20px);\n",
       "    }\n",
       "    .progress-bar-interrupted, .progress-bar-interrupted::-webkit-progress-bar {\n",
       "        background: #F44336;\n",
       "    }\n",
       "</style>\n"
      ],
      "text/plain": [
       "<IPython.core.display.HTML object>"
      ]
     },
     "metadata": {},
     "output_type": "display_data"
    },
    {
     "data": {
      "text/html": [],
      "text/plain": [
       "<IPython.core.display.HTML object>"
      ]
     },
     "metadata": {},
     "output_type": "display_data"
    },
    {
     "name": "stdout",
     "output_type": "stream",
     "text": [
      "Vocab Size: 48\n"
     ]
    },
    {
     "data": {
      "text/html": [
       "\n",
       "<style>\n",
       "    /* Turns off some styling */\n",
       "    progress {\n",
       "        /* gets rid of default border in Firefox and Opera. */\n",
       "        border: none;\n",
       "        /* Needs to be in here for Safari polyfill so background images work as expected. */\n",
       "        background-size: auto;\n",
       "    }\n",
       "    progress:not([value]), progress:not([value])::-webkit-progress-bar {\n",
       "        background: repeating-linear-gradient(45deg, #7e7e7e, #7e7e7e 10px, #5c5c5c 10px, #5c5c5c 20px);\n",
       "    }\n",
       "    .progress-bar-interrupted, .progress-bar-interrupted::-webkit-progress-bar {\n",
       "        background: #F44336;\n",
       "    }\n",
       "</style>\n"
      ],
      "text/plain": [
       "<IPython.core.display.HTML object>"
      ]
     },
     "metadata": {},
     "output_type": "display_data"
    },
    {
     "data": {
      "text/html": [],
      "text/plain": [
       "<IPython.core.display.HTML object>"
      ]
     },
     "metadata": {},
     "output_type": "display_data"
    },
    {
     "data": {
      "text/html": [
       "\n",
       "<style>\n",
       "    /* Turns off some styling */\n",
       "    progress {\n",
       "        /* gets rid of default border in Firefox and Opera. */\n",
       "        border: none;\n",
       "        /* Needs to be in here for Safari polyfill so background images work as expected. */\n",
       "        background-size: auto;\n",
       "    }\n",
       "    progress:not([value]), progress:not([value])::-webkit-progress-bar {\n",
       "        background: repeating-linear-gradient(45deg, #7e7e7e, #7e7e7e 10px, #5c5c5c 10px, #5c5c5c 20px);\n",
       "    }\n",
       "    .progress-bar-interrupted, .progress-bar-interrupted::-webkit-progress-bar {\n",
       "        background: #F44336;\n",
       "    }\n",
       "</style>\n"
      ],
      "text/plain": [
       "<IPython.core.display.HTML object>"
      ]
     },
     "metadata": {},
     "output_type": "display_data"
    },
    {
     "data": {
      "text/html": [],
      "text/plain": [
       "<IPython.core.display.HTML object>"
      ]
     },
     "metadata": {},
     "output_type": "display_data"
    },
    {
     "name": "stdout",
     "output_type": "stream",
     "text": [
      "Vocab Size: 48\n"
     ]
    },
    {
     "data": {
      "text/html": [
       "\n",
       "<style>\n",
       "    /* Turns off some styling */\n",
       "    progress {\n",
       "        /* gets rid of default border in Firefox and Opera. */\n",
       "        border: none;\n",
       "        /* Needs to be in here for Safari polyfill so background images work as expected. */\n",
       "        background-size: auto;\n",
       "    }\n",
       "    progress:not([value]), progress:not([value])::-webkit-progress-bar {\n",
       "        background: repeating-linear-gradient(45deg, #7e7e7e, #7e7e7e 10px, #5c5c5c 10px, #5c5c5c 20px);\n",
       "    }\n",
       "    .progress-bar-interrupted, .progress-bar-interrupted::-webkit-progress-bar {\n",
       "        background: #F44336;\n",
       "    }\n",
       "</style>\n"
      ],
      "text/plain": [
       "<IPython.core.display.HTML object>"
      ]
     },
     "metadata": {},
     "output_type": "display_data"
    },
    {
     "data": {
      "text/html": [
       "<table border=\"1\" class=\"dataframe\">\n",
       "  <thead>\n",
       "    <tr style=\"text-align: left;\">\n",
       "      <th>epoch</th>\n",
       "      <th>train_loss</th>\n",
       "      <th>valid_loss</th>\n",
       "      <th>r2_score</th>\n",
       "      <th>root_mean_squared_error</th>\n",
       "      <th>time</th>\n",
       "    </tr>\n",
       "  </thead>\n",
       "  <tbody>\n",
       "    <tr>\n",
       "      <td>0</td>\n",
       "      <td>4520.666016</td>\n",
       "      <td>4262.940918</td>\n",
       "      <td>-22.857170</td>\n",
       "      <td>65.291199</td>\n",
       "      <td>00:21</td>\n",
       "    </tr>\n",
       "    <tr>\n",
       "      <td>1</td>\n",
       "      <td>4540.906250</td>\n",
       "      <td>4095.987793</td>\n",
       "      <td>-21.922831</td>\n",
       "      <td>63.999905</td>\n",
       "      <td>00:21</td>\n",
       "    </tr>\n",
       "    <tr>\n",
       "      <td>2</td>\n",
       "      <td>4262.500000</td>\n",
       "      <td>4011.555420</td>\n",
       "      <td>-21.450312</td>\n",
       "      <td>63.336842</td>\n",
       "      <td>00:21</td>\n",
       "    </tr>\n",
       "    <tr>\n",
       "      <td>3</td>\n",
       "      <td>3658.014160</td>\n",
       "      <td>3465.394287</td>\n",
       "      <td>-18.393770</td>\n",
       "      <td>58.867596</td>\n",
       "      <td>00:20</td>\n",
       "    </tr>\n",
       "    <tr>\n",
       "      <td>4</td>\n",
       "      <td>2506.277344</td>\n",
       "      <td>2159.569580</td>\n",
       "      <td>-11.085839</td>\n",
       "      <td>46.471169</td>\n",
       "      <td>00:22</td>\n",
       "    </tr>\n",
       "    <tr>\n",
       "      <td>5</td>\n",
       "      <td>1140.107300</td>\n",
       "      <td>922.222717</td>\n",
       "      <td>-4.161137</td>\n",
       "      <td>30.368118</td>\n",
       "      <td>00:20</td>\n",
       "    </tr>\n",
       "    <tr>\n",
       "      <td>6</td>\n",
       "      <td>282.358124</td>\n",
       "      <td>186.087051</td>\n",
       "      <td>-0.041420</td>\n",
       "      <td>13.641373</td>\n",
       "      <td>00:21</td>\n",
       "    </tr>\n",
       "    <tr>\n",
       "      <td>7</td>\n",
       "      <td>81.545685</td>\n",
       "      <td>136.184265</td>\n",
       "      <td>0.237857</td>\n",
       "      <td>11.669802</td>\n",
       "      <td>00:21</td>\n",
       "    </tr>\n",
       "    <tr>\n",
       "      <td>8</td>\n",
       "      <td>71.569542</td>\n",
       "      <td>204.901901</td>\n",
       "      <td>-0.146715</td>\n",
       "      <td>14.314396</td>\n",
       "      <td>00:21</td>\n",
       "    </tr>\n",
       "    <tr>\n",
       "      <td>9</td>\n",
       "      <td>65.089149</td>\n",
       "      <td>147.578064</td>\n",
       "      <td>0.174093</td>\n",
       "      <td>12.148170</td>\n",
       "      <td>00:21</td>\n",
       "    </tr>\n",
       "    <tr>\n",
       "      <td>10</td>\n",
       "      <td>58.973766</td>\n",
       "      <td>147.618530</td>\n",
       "      <td>0.173866</td>\n",
       "      <td>12.149837</td>\n",
       "      <td>00:20</td>\n",
       "    </tr>\n",
       "    <tr>\n",
       "      <td>11</td>\n",
       "      <td>55.835304</td>\n",
       "      <td>137.687820</td>\n",
       "      <td>0.229442</td>\n",
       "      <td>11.734045</td>\n",
       "      <td>00:22</td>\n",
       "    </tr>\n",
       "    <tr>\n",
       "      <td>12</td>\n",
       "      <td>53.423016</td>\n",
       "      <td>125.826820</td>\n",
       "      <td>0.295821</td>\n",
       "      <td>11.217256</td>\n",
       "      <td>00:21</td>\n",
       "    </tr>\n",
       "    <tr>\n",
       "      <td>13</td>\n",
       "      <td>48.559727</td>\n",
       "      <td>128.904373</td>\n",
       "      <td>0.278598</td>\n",
       "      <td>11.353606</td>\n",
       "      <td>00:21</td>\n",
       "    </tr>\n",
       "    <tr>\n",
       "      <td>14</td>\n",
       "      <td>47.973087</td>\n",
       "      <td>127.896027</td>\n",
       "      <td>0.284241</td>\n",
       "      <td>11.309113</td>\n",
       "      <td>00:22</td>\n",
       "    </tr>\n",
       "    <tr>\n",
       "      <td>15</td>\n",
       "      <td>47.304790</td>\n",
       "      <td>136.220596</td>\n",
       "      <td>0.237654</td>\n",
       "      <td>11.671358</td>\n",
       "      <td>00:21</td>\n",
       "    </tr>\n",
       "    <tr>\n",
       "      <td>16</td>\n",
       "      <td>47.984795</td>\n",
       "      <td>145.332901</td>\n",
       "      <td>0.186657</td>\n",
       "      <td>12.055410</td>\n",
       "      <td>00:21</td>\n",
       "    </tr>\n",
       "    <tr>\n",
       "      <td>17</td>\n",
       "      <td>47.308342</td>\n",
       "      <td>134.868820</td>\n",
       "      <td>0.245219</td>\n",
       "      <td>11.613303</td>\n",
       "      <td>00:21</td>\n",
       "    </tr>\n",
       "    <tr>\n",
       "      <td>18</td>\n",
       "      <td>44.460014</td>\n",
       "      <td>127.463028</td>\n",
       "      <td>0.286665</td>\n",
       "      <td>11.289952</td>\n",
       "      <td>00:21</td>\n",
       "    </tr>\n",
       "    <tr>\n",
       "      <td>19</td>\n",
       "      <td>44.408337</td>\n",
       "      <td>125.970825</td>\n",
       "      <td>0.295016</td>\n",
       "      <td>11.223673</td>\n",
       "      <td>00:21</td>\n",
       "    </tr>\n",
       "  </tbody>\n",
       "</table>"
      ],
      "text/plain": [
       "<IPython.core.display.HTML object>"
      ]
     },
     "metadata": {},
     "output_type": "display_data"
    },
    {
     "data": {
      "text/html": [
       "\n",
       "<style>\n",
       "    /* Turns off some styling */\n",
       "    progress {\n",
       "        /* gets rid of default border in Firefox and Opera. */\n",
       "        border: none;\n",
       "        /* Needs to be in here for Safari polyfill so background images work as expected. */\n",
       "        background-size: auto;\n",
       "    }\n",
       "    progress:not([value]), progress:not([value])::-webkit-progress-bar {\n",
       "        background: repeating-linear-gradient(45deg, #7e7e7e, #7e7e7e 10px, #5c5c5c 10px, #5c5c5c 20px);\n",
       "    }\n",
       "    .progress-bar-interrupted, .progress-bar-interrupted::-webkit-progress-bar {\n",
       "        background: #F44336;\n",
       "    }\n",
       "</style>\n"
      ],
      "text/plain": [
       "<IPython.core.display.HTML object>"
      ]
     },
     "metadata": {},
     "output_type": "display_data"
    },
    {
     "data": {
      "text/html": [],
      "text/plain": [
       "<IPython.core.display.HTML object>"
      ]
     },
     "metadata": {},
     "output_type": "display_data"
    },
    {
     "data": {
      "text/html": [
       "\n",
       "<style>\n",
       "    /* Turns off some styling */\n",
       "    progress {\n",
       "        /* gets rid of default border in Firefox and Opera. */\n",
       "        border: none;\n",
       "        /* Needs to be in here for Safari polyfill so background images work as expected. */\n",
       "        background-size: auto;\n",
       "    }\n",
       "    progress:not([value]), progress:not([value])::-webkit-progress-bar {\n",
       "        background: repeating-linear-gradient(45deg, #7e7e7e, #7e7e7e 10px, #5c5c5c 10px, #5c5c5c 20px);\n",
       "    }\n",
       "    .progress-bar-interrupted, .progress-bar-interrupted::-webkit-progress-bar {\n",
       "        background: #F44336;\n",
       "    }\n",
       "</style>\n"
      ],
      "text/plain": [
       "<IPython.core.display.HTML object>"
      ]
     },
     "metadata": {},
     "output_type": "display_data"
    },
    {
     "data": {
      "text/html": [],
      "text/plain": [
       "<IPython.core.display.HTML object>"
      ]
     },
     "metadata": {},
     "output_type": "display_data"
    },
    {
     "data": {
      "text/html": [
       "\n",
       "<style>\n",
       "    /* Turns off some styling */\n",
       "    progress {\n",
       "        /* gets rid of default border in Firefox and Opera. */\n",
       "        border: none;\n",
       "        /* Needs to be in here for Safari polyfill so background images work as expected. */\n",
       "        background-size: auto;\n",
       "    }\n",
       "    progress:not([value]), progress:not([value])::-webkit-progress-bar {\n",
       "        background: repeating-linear-gradient(45deg, #7e7e7e, #7e7e7e 10px, #5c5c5c 10px, #5c5c5c 20px);\n",
       "    }\n",
       "    .progress-bar-interrupted, .progress-bar-interrupted::-webkit-progress-bar {\n",
       "        background: #F44336;\n",
       "    }\n",
       "</style>\n"
      ],
      "text/plain": [
       "<IPython.core.display.HTML object>"
      ]
     },
     "metadata": {},
     "output_type": "display_data"
    },
    {
     "data": {
      "text/html": [],
      "text/plain": [
       "<IPython.core.display.HTML object>"
      ]
     },
     "metadata": {},
     "output_type": "display_data"
    },
    {
     "data": {
      "text/html": [
       "\n",
       "<style>\n",
       "    /* Turns off some styling */\n",
       "    progress {\n",
       "        /* gets rid of default border in Firefox and Opera. */\n",
       "        border: none;\n",
       "        /* Needs to be in here for Safari polyfill so background images work as expected. */\n",
       "        background-size: auto;\n",
       "    }\n",
       "    progress:not([value]), progress:not([value])::-webkit-progress-bar {\n",
       "        background: repeating-linear-gradient(45deg, #7e7e7e, #7e7e7e 10px, #5c5c5c 10px, #5c5c5c 20px);\n",
       "    }\n",
       "    .progress-bar-interrupted, .progress-bar-interrupted::-webkit-progress-bar {\n",
       "        background: #F44336;\n",
       "    }\n",
       "</style>\n"
      ],
      "text/plain": [
       "<IPython.core.display.HTML object>"
      ]
     },
     "metadata": {},
     "output_type": "display_data"
    },
    {
     "data": {
      "text/html": [],
      "text/plain": [
       "<IPython.core.display.HTML object>"
      ]
     },
     "metadata": {},
     "output_type": "display_data"
    },
    {
     "data": {
      "text/html": [
       "\n",
       "<style>\n",
       "    /* Turns off some styling */\n",
       "    progress {\n",
       "        /* gets rid of default border in Firefox and Opera. */\n",
       "        border: none;\n",
       "        /* Needs to be in here for Safari polyfill so background images work as expected. */\n",
       "        background-size: auto;\n",
       "    }\n",
       "    progress:not([value]), progress:not([value])::-webkit-progress-bar {\n",
       "        background: repeating-linear-gradient(45deg, #7e7e7e, #7e7e7e 10px, #5c5c5c 10px, #5c5c5c 20px);\n",
       "    }\n",
       "    .progress-bar-interrupted, .progress-bar-interrupted::-webkit-progress-bar {\n",
       "        background: #F44336;\n",
       "    }\n",
       "</style>\n"
      ],
      "text/plain": [
       "<IPython.core.display.HTML object>"
      ]
     },
     "metadata": {},
     "output_type": "display_data"
    },
    {
     "data": {
      "text/html": [],
      "text/plain": [
       "<IPython.core.display.HTML object>"
      ]
     },
     "metadata": {},
     "output_type": "display_data"
    },
    {
     "data": {
      "text/html": [
       "\n",
       "<style>\n",
       "    /* Turns off some styling */\n",
       "    progress {\n",
       "        /* gets rid of default border in Firefox and Opera. */\n",
       "        border: none;\n",
       "        /* Needs to be in here for Safari polyfill so background images work as expected. */\n",
       "        background-size: auto;\n",
       "    }\n",
       "    progress:not([value]), progress:not([value])::-webkit-progress-bar {\n",
       "        background: repeating-linear-gradient(45deg, #7e7e7e, #7e7e7e 10px, #5c5c5c 10px, #5c5c5c 20px);\n",
       "    }\n",
       "    .progress-bar-interrupted, .progress-bar-interrupted::-webkit-progress-bar {\n",
       "        background: #F44336;\n",
       "    }\n",
       "</style>\n"
      ],
      "text/plain": [
       "<IPython.core.display.HTML object>"
      ]
     },
     "metadata": {},
     "output_type": "display_data"
    },
    {
     "data": {
      "text/html": [],
      "text/plain": [
       "<IPython.core.display.HTML object>"
      ]
     },
     "metadata": {},
     "output_type": "display_data"
    },
    {
     "data": {
      "text/html": [
       "\n",
       "<style>\n",
       "    /* Turns off some styling */\n",
       "    progress {\n",
       "        /* gets rid of default border in Firefox and Opera. */\n",
       "        border: none;\n",
       "        /* Needs to be in here for Safari polyfill so background images work as expected. */\n",
       "        background-size: auto;\n",
       "    }\n",
       "    progress:not([value]), progress:not([value])::-webkit-progress-bar {\n",
       "        background: repeating-linear-gradient(45deg, #7e7e7e, #7e7e7e 10px, #5c5c5c 10px, #5c5c5c 20px);\n",
       "    }\n",
       "    .progress-bar-interrupted, .progress-bar-interrupted::-webkit-progress-bar {\n",
       "        background: #F44336;\n",
       "    }\n",
       "</style>\n"
      ],
      "text/plain": [
       "<IPython.core.display.HTML object>"
      ]
     },
     "metadata": {},
     "output_type": "display_data"
    },
    {
     "data": {
      "text/html": [],
      "text/plain": [
       "<IPython.core.display.HTML object>"
      ]
     },
     "metadata": {},
     "output_type": "display_data"
    },
    {
     "data": {
      "text/html": [
       "\n",
       "<style>\n",
       "    /* Turns off some styling */\n",
       "    progress {\n",
       "        /* gets rid of default border in Firefox and Opera. */\n",
       "        border: none;\n",
       "        /* Needs to be in here for Safari polyfill so background images work as expected. */\n",
       "        background-size: auto;\n",
       "    }\n",
       "    progress:not([value]), progress:not([value])::-webkit-progress-bar {\n",
       "        background: repeating-linear-gradient(45deg, #7e7e7e, #7e7e7e 10px, #5c5c5c 10px, #5c5c5c 20px);\n",
       "    }\n",
       "    .progress-bar-interrupted, .progress-bar-interrupted::-webkit-progress-bar {\n",
       "        background: #F44336;\n",
       "    }\n",
       "</style>\n"
      ],
      "text/plain": [
       "<IPython.core.display.HTML object>"
      ]
     },
     "metadata": {},
     "output_type": "display_data"
    },
    {
     "data": {
      "text/html": [],
      "text/plain": [
       "<IPython.core.display.HTML object>"
      ]
     },
     "metadata": {},
     "output_type": "display_data"
    },
    {
     "data": {
      "text/html": [
       "\n",
       "<style>\n",
       "    /* Turns off some styling */\n",
       "    progress {\n",
       "        /* gets rid of default border in Firefox and Opera. */\n",
       "        border: none;\n",
       "        /* Needs to be in here for Safari polyfill so background images work as expected. */\n",
       "        background-size: auto;\n",
       "    }\n",
       "    progress:not([value]), progress:not([value])::-webkit-progress-bar {\n",
       "        background: repeating-linear-gradient(45deg, #7e7e7e, #7e7e7e 10px, #5c5c5c 10px, #5c5c5c 20px);\n",
       "    }\n",
       "    .progress-bar-interrupted, .progress-bar-interrupted::-webkit-progress-bar {\n",
       "        background: #F44336;\n",
       "    }\n",
       "</style>\n"
      ],
      "text/plain": [
       "<IPython.core.display.HTML object>"
      ]
     },
     "metadata": {},
     "output_type": "display_data"
    },
    {
     "data": {
      "text/html": [],
      "text/plain": [
       "<IPython.core.display.HTML object>"
      ]
     },
     "metadata": {},
     "output_type": "display_data"
    },
    {
     "data": {
      "text/html": [
       "\n",
       "<style>\n",
       "    /* Turns off some styling */\n",
       "    progress {\n",
       "        /* gets rid of default border in Firefox and Opera. */\n",
       "        border: none;\n",
       "        /* Needs to be in here for Safari polyfill so background images work as expected. */\n",
       "        background-size: auto;\n",
       "    }\n",
       "    progress:not([value]), progress:not([value])::-webkit-progress-bar {\n",
       "        background: repeating-linear-gradient(45deg, #7e7e7e, #7e7e7e 10px, #5c5c5c 10px, #5c5c5c 20px);\n",
       "    }\n",
       "    .progress-bar-interrupted, .progress-bar-interrupted::-webkit-progress-bar {\n",
       "        background: #F44336;\n",
       "    }\n",
       "</style>\n"
      ],
      "text/plain": [
       "<IPython.core.display.HTML object>"
      ]
     },
     "metadata": {},
     "output_type": "display_data"
    },
    {
     "data": {
      "text/html": [],
      "text/plain": [
       "<IPython.core.display.HTML object>"
      ]
     },
     "metadata": {},
     "output_type": "display_data"
    },
    {
     "data": {
      "text/html": [
       "\n",
       "<style>\n",
       "    /* Turns off some styling */\n",
       "    progress {\n",
       "        /* gets rid of default border in Firefox and Opera. */\n",
       "        border: none;\n",
       "        /* Needs to be in here for Safari polyfill so background images work as expected. */\n",
       "        background-size: auto;\n",
       "    }\n",
       "    progress:not([value]), progress:not([value])::-webkit-progress-bar {\n",
       "        background: repeating-linear-gradient(45deg, #7e7e7e, #7e7e7e 10px, #5c5c5c 10px, #5c5c5c 20px);\n",
       "    }\n",
       "    .progress-bar-interrupted, .progress-bar-interrupted::-webkit-progress-bar {\n",
       "        background: #F44336;\n",
       "    }\n",
       "</style>\n"
      ],
      "text/plain": [
       "<IPython.core.display.HTML object>"
      ]
     },
     "metadata": {},
     "output_type": "display_data"
    },
    {
     "data": {
      "text/html": [],
      "text/plain": [
       "<IPython.core.display.HTML object>"
      ]
     },
     "metadata": {},
     "output_type": "display_data"
    },
    {
     "data": {
      "text/html": [
       "\n",
       "<style>\n",
       "    /* Turns off some styling */\n",
       "    progress {\n",
       "        /* gets rid of default border in Firefox and Opera. */\n",
       "        border: none;\n",
       "        /* Needs to be in here for Safari polyfill so background images work as expected. */\n",
       "        background-size: auto;\n",
       "    }\n",
       "    progress:not([value]), progress:not([value])::-webkit-progress-bar {\n",
       "        background: repeating-linear-gradient(45deg, #7e7e7e, #7e7e7e 10px, #5c5c5c 10px, #5c5c5c 20px);\n",
       "    }\n",
       "    .progress-bar-interrupted, .progress-bar-interrupted::-webkit-progress-bar {\n",
       "        background: #F44336;\n",
       "    }\n",
       "</style>\n"
      ],
      "text/plain": [
       "<IPython.core.display.HTML object>"
      ]
     },
     "metadata": {},
     "output_type": "display_data"
    },
    {
     "data": {
      "text/html": [],
      "text/plain": [
       "<IPython.core.display.HTML object>"
      ]
     },
     "metadata": {},
     "output_type": "display_data"
    },
    {
     "data": {
      "text/html": [
       "\n",
       "<style>\n",
       "    /* Turns off some styling */\n",
       "    progress {\n",
       "        /* gets rid of default border in Firefox and Opera. */\n",
       "        border: none;\n",
       "        /* Needs to be in here for Safari polyfill so background images work as expected. */\n",
       "        background-size: auto;\n",
       "    }\n",
       "    progress:not([value]), progress:not([value])::-webkit-progress-bar {\n",
       "        background: repeating-linear-gradient(45deg, #7e7e7e, #7e7e7e 10px, #5c5c5c 10px, #5c5c5c 20px);\n",
       "    }\n",
       "    .progress-bar-interrupted, .progress-bar-interrupted::-webkit-progress-bar {\n",
       "        background: #F44336;\n",
       "    }\n",
       "</style>\n"
      ],
      "text/plain": [
       "<IPython.core.display.HTML object>"
      ]
     },
     "metadata": {},
     "output_type": "display_data"
    },
    {
     "data": {
      "text/html": [],
      "text/plain": [
       "<IPython.core.display.HTML object>"
      ]
     },
     "metadata": {},
     "output_type": "display_data"
    },
    {
     "data": {
      "text/html": [
       "\n",
       "<style>\n",
       "    /* Turns off some styling */\n",
       "    progress {\n",
       "        /* gets rid of default border in Firefox and Opera. */\n",
       "        border: none;\n",
       "        /* Needs to be in here for Safari polyfill so background images work as expected. */\n",
       "        background-size: auto;\n",
       "    }\n",
       "    progress:not([value]), progress:not([value])::-webkit-progress-bar {\n",
       "        background: repeating-linear-gradient(45deg, #7e7e7e, #7e7e7e 10px, #5c5c5c 10px, #5c5c5c 20px);\n",
       "    }\n",
       "    .progress-bar-interrupted, .progress-bar-interrupted::-webkit-progress-bar {\n",
       "        background: #F44336;\n",
       "    }\n",
       "</style>\n"
      ],
      "text/plain": [
       "<IPython.core.display.HTML object>"
      ]
     },
     "metadata": {},
     "output_type": "display_data"
    },
    {
     "data": {
      "text/html": [],
      "text/plain": [
       "<IPython.core.display.HTML object>"
      ]
     },
     "metadata": {},
     "output_type": "display_data"
    },
    {
     "data": {
      "text/html": [
       "\n",
       "<style>\n",
       "    /* Turns off some styling */\n",
       "    progress {\n",
       "        /* gets rid of default border in Firefox and Opera. */\n",
       "        border: none;\n",
       "        /* Needs to be in here for Safari polyfill so background images work as expected. */\n",
       "        background-size: auto;\n",
       "    }\n",
       "    progress:not([value]), progress:not([value])::-webkit-progress-bar {\n",
       "        background: repeating-linear-gradient(45deg, #7e7e7e, #7e7e7e 10px, #5c5c5c 10px, #5c5c5c 20px);\n",
       "    }\n",
       "    .progress-bar-interrupted, .progress-bar-interrupted::-webkit-progress-bar {\n",
       "        background: #F44336;\n",
       "    }\n",
       "</style>\n"
      ],
      "text/plain": [
       "<IPython.core.display.HTML object>"
      ]
     },
     "metadata": {},
     "output_type": "display_data"
    },
    {
     "data": {
      "text/html": [],
      "text/plain": [
       "<IPython.core.display.HTML object>"
      ]
     },
     "metadata": {},
     "output_type": "display_data"
    },
    {
     "name": "stdout",
     "output_type": "stream",
     "text": [
      "Test Set (Canonical)\n",
      "RMSE: tensor(9.8875)\n",
      "MAE: tensor(7.5949)\n",
      "R2: tensor(0.3983)\n",
      "Test Set (Average)\n",
      "RMSE: tensor(9.3577)\n",
      "R2: tensor(0.4610)\n",
      "MAE: tensor(7.2274)\n",
      "           0\n",
      "0    67.3916\n",
      "1    70.4851\n",
      "2    49.4354\n",
      "3    60.1192\n",
      "4    59.3138\n",
      "..       ...\n",
      "169  64.1758\n",
      "170  55.9711\n",
      "171  73.9662\n",
      "172  50.8501\n",
      "173  90.1305\n",
      "\n",
      "[174 rows x 1 columns]\n",
      "[['O=C(C1=C(OC2=C(C#N)C=CC=C2)C=CC=C1)C3=CC=CC=C3.C=CC(N(C)C)=O.CC(=O)[O-].CC(=O)[O-].[Pd+2].O=C(O)[C@H](C(C)C)NC(C)=O.C(=O)([O-])[O-].[Ag+].[Ag+].OC(C(F)(F)F)C(F)(F)F.ClCCCl'\n",
      "  83 67.3916]\n",
      " ['O=S(CC1=CC=CC=C1C)(OC2=C(C#N)C=CC=C2)=O.CC(OI(OC(C)=O)C1=CC=CC=C1)=O.CC(=O)[O-].CC(=O)[O-].[Pd+2].C[C@H](NC(=O)OC(C)(C)C)C(O)=O.OC(C(F)(F)F)C(F)(F)F'\n",
      "  75 70.4851]\n",
      " ['O=C(OC1=C(C#N)C=C(OC)C=C1)CC2=CC=C(OC)C=C2.C=CC(OCC)=O.CC(=O)[O-].CC(=O)[O-].[Pd+2].CC(=O)NCC(=O)O.C(=O)([O-])[O-].[Ag+].[Ag+].OC(C(F)(F)F)C(F)(F)F'\n",
      "  72 49.4354]\n",
      " ['O=C(C1=C(C#N)C=CC=C1)N(C)CC(CC(OC)=O)C2=CC=C(Cl)C=C2.C=CC(OCC)=O.CC(O[Pd]OC(C)=O)=O.CC(=O)NCC(=O)O.CC(=O)[O-].[Ag+].OC(C(F)(F)F)C(F)(F)F.ClCCCl'\n",
      "  57 60.1192]\n",
      " ...\n",
      " ['O=C(OC1=C(C#N)C=CC(OC)=C1)CCC2=CC=CC=C2.BrC#CC1(O[Si](C)(C)C)C(C(C)C)CC(C)CC1.Cl[Rh].Cl[Rh].C1CC=CCCC=C1.C2CC=CCCC=C2.[O-]S(=O)(=O)[O-].[Ag+].[Ag+].ClCCCl'\n",
      "  70 55.9711]\n",
      " ['O=C(OC1=C(C#N)C=CC=C1)CC2=CC=C(F)C=C2.C=CC(OCC)=O.CC(=O)[O-].CC(=O)[O-].[Pd+2].CC(=O)NCC(=O)O.C(=O)([O-])[O-].[Ag+].[Ag+].OC(C(F)(F)F)C(F)(F)F'\n",
      "  69 73.9662]\n",
      " ['O=S(CCC1=CC=CC=C1)(OC2=C(C#N)C=C(/C=C/C(OCC)=O)C=C2)=O.C=CC(N(C)C)=O.CC(=O)[O-].CC(=O)[O-].[Pd+2].C(C(=O)O)NC=O.CC(=O)[O-].[Ag+].C(C(F)(F)F)(C(F)(F)F)O'\n",
      "  50 50.8501]\n",
      " ['O=C(N(C1=C(C#N)C=CC=C1)C2=CC=CC=C2C#N)CC3=C(OC)C=CC=C3.C=CC=O.CC(=O)[O-].CC(=O)[O-].[Pd+2].O=CNCC(O)=O.CC(=O)[O-].[Ag+].OC(C(F)(F)F)C(F)(F)F'\n",
      "  80 90.1305]]\n"
     ]
    }
   ],
   "source": [
    "# Define a function to process a single sheet\n",
    "def process_sheet(sheet_name):\n",
    "    df = pd.read_excel('./Data/Fine-tuning/866-reaction-yield-CV_1-20.xlsx', sheet_name=sheet_name)\n",
    "    df = df[['smiles', 'Yield']]\n",
    "    print(df)\n",
    "    df['Yield'] = [int(i) for i in df['Yield']]\n",
    "    \n",
    "    train = df.iloc[:605, :]\n",
    "    valid = df.iloc[605:692, :]\n",
    "    test = df.iloc[692:, :]\n",
    "    \n",
    "    random_seed(1234, True)\n",
    "\n",
    "    train_aug = ee_smiles_augmentation(train, 50, noise=0.1)\n",
    "    print(\"Train_aug: \", train_aug.shape)\n",
    "    \n",
    "\n",
    "        \n",
    "    bs = 128\n",
    "    tok = Tokenizer(partial(MolTokenizer, special_tokens = special_tokens), n_cpus=6, pre_rules=[], post_rules=[])\n",
    "        \n",
    "    np.warnings.filterwarnings('ignore', category=np.VisibleDeprecationWarning)\n",
    "    random_seed(1234, True)\n",
    "        \n",
    "    lm_vocab = TextLMDataBunch.from_df(path, train_aug, valid, bs=bs, tokenizer=tok,\n",
    "                              chunksize=50000, text_cols=0,label_cols=1, max_vocab=60000, include_bos=False, min_freq=1, num_workers=0)\n",
    "    print(f'Vocab Size: {len(lm_vocab.vocab.itos)}')\n",
    "    \n",
    "    pretrained_model_path = Path(\"./Pretraining_weights_bias/SSP1-C/models/\")\n",
    "    pretrained_fnames = ['C-H-activation_100_wt', 'C-H-activation_100_vocab']\n",
    "    fnames = [pretrained_model_path/f'{fn}.{ext}' for fn,ext in zip(pretrained_fnames, ['pth', 'pkl'])]\n",
    "        \n",
    "    random_seed(1234, True)\n",
    "\n",
    "    data_clas = TextClasDataBunch.from_df(path, train_aug, valid, bs=bs, tokenizer=tok,\n",
    "                                                  chunksize=50000, text_cols='smiles',label_cols='Yield',\n",
    "                                                  vocab=lm_vocab.vocab, max_vocab=60000, include_bos=False, min_freq=1, num_workers=0)\n",
    "        \n",
    "    print(f'Vocab Size: {len(data_clas.vocab.itos)}')\n",
    "        \n",
    "    random_seed(1234, True)\n",
    "\n",
    "    lm_learner = language_model_learner(lm_vocab, AWD_LSTM, drop_mult=0.5, wd=0.00, pretrained=False)\n",
    "    lm_learner = lm_learner.load_pretrained(*fnames)\n",
    "    lm_learner.freeze()\n",
    "    lm_learner.save_encoder(f'lm_encoder') \n",
    "        \n",
    "    random_seed(1234, True)\n",
    "\n",
    "    reg_learner = text_classifier_learner(data_clas, AWD_LSTM, pretrained=False, drop_mult=0.5, wd=0.00, metrics = [r2_score, rmse])\n",
    "    reg_learner.load_encoder(f'lm_encoder')\n",
    "    reg_learner.freeze()  \n",
    "        \n",
    "    reg_learner.model\n",
    "        \n",
    "    random_seed(1234, True)\n",
    "\n",
    "    reg_learner.unfreeze()\n",
    "    reg_learner.fit_one_cycle(20, 0.001, moms=(0.8,0.7))\n",
    "        \n",
    "    split_id = 1\n",
    "    reg_learner.save(f'{split_id}_reg-866-random')\n",
    "        \n",
    "    preds = []\n",
    "\n",
    "    # Randomized SMILES Predictions\n",
    "    for i in range(4):\n",
    "        np.random.seed(i)\n",
    "        test_aug = test_smiles_augmentation(test,1)\n",
    "        \n",
    "        #model\n",
    "        test_db = TextClasDataBunch.from_df(path, train_aug, test_aug, tokenizer=tok, vocab=lm_vocab.vocab,\n",
    "                                                    text_cols='smiles', label_cols='Yield', bs=bs, include_bos=False)\n",
    "        \n",
    "        learner = text_classifier_learner(test_db, AWD_LSTM, pretrained=False, drop_mult=0.5, wd=0.00, metrics = [r2_score, root_mean_squared_error])\n",
    "        #print(test_db)\n",
    "        learner.load(f'{split_id}_reg-866-random');\n",
    "        \n",
    "        #get predictions\n",
    "        pred,lbl = learner.get_preds(ds_type=DatasetType.Valid)\n",
    "        \n",
    "        preds.append(pred)\n",
    "        \n",
    "    # Canonical SMILES Predictions\n",
    "    test_db = TextClasDataBunch.from_df(path, train_aug, test, bs=bs, tokenizer=tok,\n",
    "                                      chunksize=50000, text_cols='smiles',label_cols='Yield', vocab=lm_vocab.vocab, max_vocab=60000,\n",
    "                                                      include_bos=False)\n",
    "        \n",
    "    learner = text_classifier_learner(test_db, AWD_LSTM, pretrained=False, drop_mult=0.5, wd=0.00, metrics = [r2_score, root_mean_squared_error])\n",
    "        \n",
    "    learner.load(f'{split_id}_reg-866-random');\n",
    "        \n",
    "        \n",
    "    #get predictions\n",
    "    pred_canonical,lbl = learner.get_preds(ds_type=DatasetType.Valid)\n",
    "        \n",
    "    preds.append(pred_canonical)\n",
    "    \n",
    "    print('Test Set (Canonical)')\n",
    "    print('RMSE:', root_mean_squared_error(pred_canonical,lbl))\n",
    "    print('MAE:', mean_absolute_error(pred_canonical,lbl))\n",
    "    print('R2:', r2_score(pred_canonical,lbl))\n",
    "    avg_preds = sum(preds)/len(preds)\n",
    "    #print('\\n')\n",
    "    print('Test Set (Average)')\n",
    "    print('RMSE:', root_mean_squared_error(avg_preds,lbl))\n",
    "    print('R2:', r2_score(avg_preds,lbl))\n",
    "    print('MAE:', mean_absolute_error(avg_preds,lbl))\n",
    "    \n",
    "    pred1=pd.DataFrame(pred)\n",
    "    def remove_tensor(x):\n",
    "        return float(str(x).replace('tensor(', '').replace(')', ''))\n",
    "    pred1 = pred1.applymap(remove_tensor)\n",
    "    print(pred1)\n",
    "        \n",
    "    # Concatenate the two arrays column-wise\n",
    "    concatenated_arr = np.column_stack((test, pred1))\n",
    "        \n",
    "    # Print the result\n",
    "    print(concatenated_arr)\n",
    "        \n",
    "    a1=pd.DataFrame(concatenated_arr)\n",
    "    #a1.to_csv('/raid/aiccg/rbsunoj/supratim/ulmfit/outputs/C-H-activation/866-result/860-test-pred-p0_' + sheet_name +'.csv')\n",
    "        \n",
    "# Loop through all sheet names and process each sheet\n",
    "for sheet_num in range(1, 2):  # Assuming sheet names are FullCV_1, FullCV_2, ..., FullCV_20\n",
    "    sheet_name = f'866-reaction-yield-CV_{sheet_num}'\n",
    "    print(f\"Processing sheet: {sheet_name}\")\n",
    "    process_sheet(sheet_name)\n",
    "        \n",
    "        "
   ]
  },
  {
   "cell_type": "code",
   "execution_count": null,
   "id": "7c405b70",
   "metadata": {},
   "outputs": [],
   "source": []
  },
  {
   "cell_type": "code",
   "execution_count": 43,
   "id": "bd168d9e",
   "metadata": {},
   "outputs": [
    {
     "name": "stdout",
     "output_type": "stream",
     "text": [
      "Processing sheet: 866-reaction-yield-CV_1\n",
      "30250\n",
      "30250\n",
      "Train_aug:  (30855, 2)\n"
     ]
    },
    {
     "data": {
      "text/html": [
       "\n",
       "<style>\n",
       "    /* Turns off some styling */\n",
       "    progress {\n",
       "        /* gets rid of default border in Firefox and Opera. */\n",
       "        border: none;\n",
       "        /* Needs to be in here for Safari polyfill so background images work as expected. */\n",
       "        background-size: auto;\n",
       "    }\n",
       "    progress:not([value]), progress:not([value])::-webkit-progress-bar {\n",
       "        background: repeating-linear-gradient(45deg, #7e7e7e, #7e7e7e 10px, #5c5c5c 10px, #5c5c5c 20px);\n",
       "    }\n",
       "    .progress-bar-interrupted, .progress-bar-interrupted::-webkit-progress-bar {\n",
       "        background: #F44336;\n",
       "    }\n",
       "</style>\n"
      ],
      "text/plain": [
       "<IPython.core.display.HTML object>"
      ]
     },
     "metadata": {},
     "output_type": "display_data"
    },
    {
     "data": {
      "text/html": [],
      "text/plain": [
       "<IPython.core.display.HTML object>"
      ]
     },
     "metadata": {},
     "output_type": "display_data"
    },
    {
     "data": {
      "text/html": [
       "\n",
       "<style>\n",
       "    /* Turns off some styling */\n",
       "    progress {\n",
       "        /* gets rid of default border in Firefox and Opera. */\n",
       "        border: none;\n",
       "        /* Needs to be in here for Safari polyfill so background images work as expected. */\n",
       "        background-size: auto;\n",
       "    }\n",
       "    progress:not([value]), progress:not([value])::-webkit-progress-bar {\n",
       "        background: repeating-linear-gradient(45deg, #7e7e7e, #7e7e7e 10px, #5c5c5c 10px, #5c5c5c 20px);\n",
       "    }\n",
       "    .progress-bar-interrupted, .progress-bar-interrupted::-webkit-progress-bar {\n",
       "        background: #F44336;\n",
       "    }\n",
       "</style>\n"
      ],
      "text/plain": [
       "<IPython.core.display.HTML object>"
      ]
     },
     "metadata": {},
     "output_type": "display_data"
    },
    {
     "data": {
      "text/html": [],
      "text/plain": [
       "<IPython.core.display.HTML object>"
      ]
     },
     "metadata": {},
     "output_type": "display_data"
    },
    {
     "name": "stdout",
     "output_type": "stream",
     "text": [
      "Vocab Size: 48\n"
     ]
    },
    {
     "data": {
      "text/html": [
       "\n",
       "<style>\n",
       "    /* Turns off some styling */\n",
       "    progress {\n",
       "        /* gets rid of default border in Firefox and Opera. */\n",
       "        border: none;\n",
       "        /* Needs to be in here for Safari polyfill so background images work as expected. */\n",
       "        background-size: auto;\n",
       "    }\n",
       "    progress:not([value]), progress:not([value])::-webkit-progress-bar {\n",
       "        background: repeating-linear-gradient(45deg, #7e7e7e, #7e7e7e 10px, #5c5c5c 10px, #5c5c5c 20px);\n",
       "    }\n",
       "    .progress-bar-interrupted, .progress-bar-interrupted::-webkit-progress-bar {\n",
       "        background: #F44336;\n",
       "    }\n",
       "</style>\n"
      ],
      "text/plain": [
       "<IPython.core.display.HTML object>"
      ]
     },
     "metadata": {},
     "output_type": "display_data"
    },
    {
     "data": {
      "text/html": [],
      "text/plain": [
       "<IPython.core.display.HTML object>"
      ]
     },
     "metadata": {},
     "output_type": "display_data"
    },
    {
     "data": {
      "text/html": [
       "\n",
       "<style>\n",
       "    /* Turns off some styling */\n",
       "    progress {\n",
       "        /* gets rid of default border in Firefox and Opera. */\n",
       "        border: none;\n",
       "        /* Needs to be in here for Safari polyfill so background images work as expected. */\n",
       "        background-size: auto;\n",
       "    }\n",
       "    progress:not([value]), progress:not([value])::-webkit-progress-bar {\n",
       "        background: repeating-linear-gradient(45deg, #7e7e7e, #7e7e7e 10px, #5c5c5c 10px, #5c5c5c 20px);\n",
       "    }\n",
       "    .progress-bar-interrupted, .progress-bar-interrupted::-webkit-progress-bar {\n",
       "        background: #F44336;\n",
       "    }\n",
       "</style>\n"
      ],
      "text/plain": [
       "<IPython.core.display.HTML object>"
      ]
     },
     "metadata": {},
     "output_type": "display_data"
    },
    {
     "data": {
      "text/html": [],
      "text/plain": [
       "<IPython.core.display.HTML object>"
      ]
     },
     "metadata": {},
     "output_type": "display_data"
    },
    {
     "name": "stdout",
     "output_type": "stream",
     "text": [
      "Vocab Size: 48\n"
     ]
    },
    {
     "data": {
      "text/html": [
       "\n",
       "<style>\n",
       "    /* Turns off some styling */\n",
       "    progress {\n",
       "        /* gets rid of default border in Firefox and Opera. */\n",
       "        border: none;\n",
       "        /* Needs to be in here for Safari polyfill so background images work as expected. */\n",
       "        background-size: auto;\n",
       "    }\n",
       "    progress:not([value]), progress:not([value])::-webkit-progress-bar {\n",
       "        background: repeating-linear-gradient(45deg, #7e7e7e, #7e7e7e 10px, #5c5c5c 10px, #5c5c5c 20px);\n",
       "    }\n",
       "    .progress-bar-interrupted, .progress-bar-interrupted::-webkit-progress-bar {\n",
       "        background: #F44336;\n",
       "    }\n",
       "</style>\n"
      ],
      "text/plain": [
       "<IPython.core.display.HTML object>"
      ]
     },
     "metadata": {},
     "output_type": "display_data"
    },
    {
     "data": {
      "text/html": [
       "<table border=\"1\" class=\"dataframe\">\n",
       "  <thead>\n",
       "    <tr style=\"text-align: left;\">\n",
       "      <th>epoch</th>\n",
       "      <th>train_loss</th>\n",
       "      <th>valid_loss</th>\n",
       "      <th>r2_score</th>\n",
       "      <th>root_mean_squared_error</th>\n",
       "      <th>time</th>\n",
       "    </tr>\n",
       "  </thead>\n",
       "  <tbody>\n",
       "    <tr>\n",
       "      <td>0</td>\n",
       "      <td>4521.926270</td>\n",
       "      <td>4296.550293</td>\n",
       "      <td>-23.045261</td>\n",
       "      <td>65.548073</td>\n",
       "      <td>00:21</td>\n",
       "    </tr>\n",
       "    <tr>\n",
       "      <td>1</td>\n",
       "      <td>4545.556152</td>\n",
       "      <td>4110.928711</td>\n",
       "      <td>-22.006445</td>\n",
       "      <td>64.116524</td>\n",
       "      <td>00:21</td>\n",
       "    </tr>\n",
       "    <tr>\n",
       "      <td>2</td>\n",
       "      <td>4275.340332</td>\n",
       "      <td>4137.287109</td>\n",
       "      <td>-22.153957</td>\n",
       "      <td>64.321747</td>\n",
       "      <td>00:21</td>\n",
       "    </tr>\n",
       "    <tr>\n",
       "      <td>3</td>\n",
       "      <td>3676.725098</td>\n",
       "      <td>3278.531494</td>\n",
       "      <td>-17.348009</td>\n",
       "      <td>57.258465</td>\n",
       "      <td>00:21</td>\n",
       "    </tr>\n",
       "    <tr>\n",
       "      <td>4</td>\n",
       "      <td>2528.989990</td>\n",
       "      <td>2053.898438</td>\n",
       "      <td>-10.494459</td>\n",
       "      <td>45.319958</td>\n",
       "      <td>00:22</td>\n",
       "    </tr>\n",
       "    <tr>\n",
       "      <td>5</td>\n",
       "      <td>1163.950439</td>\n",
       "      <td>896.779480</td>\n",
       "      <td>-4.018746</td>\n",
       "      <td>29.946276</td>\n",
       "      <td>00:21</td>\n",
       "    </tr>\n",
       "    <tr>\n",
       "      <td>6</td>\n",
       "      <td>309.430267</td>\n",
       "      <td>196.110367</td>\n",
       "      <td>-0.097514</td>\n",
       "      <td>14.003942</td>\n",
       "      <td>00:21</td>\n",
       "    </tr>\n",
       "    <tr>\n",
       "      <td>7</td>\n",
       "      <td>113.489227</td>\n",
       "      <td>126.111160</td>\n",
       "      <td>0.294230</td>\n",
       "      <td>11.229922</td>\n",
       "      <td>00:22</td>\n",
       "    </tr>\n",
       "    <tr>\n",
       "      <td>8</td>\n",
       "      <td>101.285965</td>\n",
       "      <td>188.988419</td>\n",
       "      <td>-0.057657</td>\n",
       "      <td>13.747306</td>\n",
       "      <td>00:21</td>\n",
       "    </tr>\n",
       "    <tr>\n",
       "      <td>9</td>\n",
       "      <td>97.228401</td>\n",
       "      <td>140.403000</td>\n",
       "      <td>0.214247</td>\n",
       "      <td>11.849177</td>\n",
       "      <td>00:21</td>\n",
       "    </tr>\n",
       "    <tr>\n",
       "      <td>10</td>\n",
       "      <td>90.030807</td>\n",
       "      <td>147.516739</td>\n",
       "      <td>0.174436</td>\n",
       "      <td>12.145647</td>\n",
       "      <td>00:20</td>\n",
       "    </tr>\n",
       "    <tr>\n",
       "      <td>11</td>\n",
       "      <td>87.194519</td>\n",
       "      <td>136.634430</td>\n",
       "      <td>0.235338</td>\n",
       "      <td>11.689074</td>\n",
       "      <td>00:22</td>\n",
       "    </tr>\n",
       "    <tr>\n",
       "      <td>12</td>\n",
       "      <td>84.504051</td>\n",
       "      <td>134.875992</td>\n",
       "      <td>0.245179</td>\n",
       "      <td>11.613612</td>\n",
       "      <td>00:21</td>\n",
       "    </tr>\n",
       "    <tr>\n",
       "      <td>13</td>\n",
       "      <td>80.258575</td>\n",
       "      <td>129.265640</td>\n",
       "      <td>0.276576</td>\n",
       "      <td>11.369505</td>\n",
       "      <td>00:21</td>\n",
       "    </tr>\n",
       "    <tr>\n",
       "      <td>14</td>\n",
       "      <td>76.849205</td>\n",
       "      <td>135.943695</td>\n",
       "      <td>0.239203</td>\n",
       "      <td>11.659490</td>\n",
       "      <td>00:22</td>\n",
       "    </tr>\n",
       "    <tr>\n",
       "      <td>15</td>\n",
       "      <td>77.667366</td>\n",
       "      <td>132.589661</td>\n",
       "      <td>0.257974</td>\n",
       "      <td>11.514758</td>\n",
       "      <td>00:21</td>\n",
       "    </tr>\n",
       "    <tr>\n",
       "      <td>16</td>\n",
       "      <td>79.227074</td>\n",
       "      <td>138.878815</td>\n",
       "      <td>0.222777</td>\n",
       "      <td>11.784685</td>\n",
       "      <td>00:21</td>\n",
       "    </tr>\n",
       "    <tr>\n",
       "      <td>17</td>\n",
       "      <td>77.263954</td>\n",
       "      <td>141.060074</td>\n",
       "      <td>0.210570</td>\n",
       "      <td>11.876872</td>\n",
       "      <td>00:21</td>\n",
       "    </tr>\n",
       "    <tr>\n",
       "      <td>18</td>\n",
       "      <td>74.122566</td>\n",
       "      <td>130.180695</td>\n",
       "      <td>0.271455</td>\n",
       "      <td>11.409676</td>\n",
       "      <td>00:21</td>\n",
       "    </tr>\n",
       "    <tr>\n",
       "      <td>19</td>\n",
       "      <td>74.227371</td>\n",
       "      <td>127.199127</td>\n",
       "      <td>0.288141</td>\n",
       "      <td>11.278259</td>\n",
       "      <td>00:21</td>\n",
       "    </tr>\n",
       "  </tbody>\n",
       "</table>"
      ],
      "text/plain": [
       "<IPython.core.display.HTML object>"
      ]
     },
     "metadata": {},
     "output_type": "display_data"
    },
    {
     "data": {
      "text/html": [
       "\n",
       "<style>\n",
       "    /* Turns off some styling */\n",
       "    progress {\n",
       "        /* gets rid of default border in Firefox and Opera. */\n",
       "        border: none;\n",
       "        /* Needs to be in here for Safari polyfill so background images work as expected. */\n",
       "        background-size: auto;\n",
       "    }\n",
       "    progress:not([value]), progress:not([value])::-webkit-progress-bar {\n",
       "        background: repeating-linear-gradient(45deg, #7e7e7e, #7e7e7e 10px, #5c5c5c 10px, #5c5c5c 20px);\n",
       "    }\n",
       "    .progress-bar-interrupted, .progress-bar-interrupted::-webkit-progress-bar {\n",
       "        background: #F44336;\n",
       "    }\n",
       "</style>\n"
      ],
      "text/plain": [
       "<IPython.core.display.HTML object>"
      ]
     },
     "metadata": {},
     "output_type": "display_data"
    },
    {
     "data": {
      "text/html": [],
      "text/plain": [
       "<IPython.core.display.HTML object>"
      ]
     },
     "metadata": {},
     "output_type": "display_data"
    },
    {
     "data": {
      "text/html": [
       "\n",
       "<style>\n",
       "    /* Turns off some styling */\n",
       "    progress {\n",
       "        /* gets rid of default border in Firefox and Opera. */\n",
       "        border: none;\n",
       "        /* Needs to be in here for Safari polyfill so background images work as expected. */\n",
       "        background-size: auto;\n",
       "    }\n",
       "    progress:not([value]), progress:not([value])::-webkit-progress-bar {\n",
       "        background: repeating-linear-gradient(45deg, #7e7e7e, #7e7e7e 10px, #5c5c5c 10px, #5c5c5c 20px);\n",
       "    }\n",
       "    .progress-bar-interrupted, .progress-bar-interrupted::-webkit-progress-bar {\n",
       "        background: #F44336;\n",
       "    }\n",
       "</style>\n"
      ],
      "text/plain": [
       "<IPython.core.display.HTML object>"
      ]
     },
     "metadata": {},
     "output_type": "display_data"
    },
    {
     "data": {
      "text/html": [],
      "text/plain": [
       "<IPython.core.display.HTML object>"
      ]
     },
     "metadata": {},
     "output_type": "display_data"
    },
    {
     "data": {
      "text/html": [
       "\n",
       "<style>\n",
       "    /* Turns off some styling */\n",
       "    progress {\n",
       "        /* gets rid of default border in Firefox and Opera. */\n",
       "        border: none;\n",
       "        /* Needs to be in here for Safari polyfill so background images work as expected. */\n",
       "        background-size: auto;\n",
       "    }\n",
       "    progress:not([value]), progress:not([value])::-webkit-progress-bar {\n",
       "        background: repeating-linear-gradient(45deg, #7e7e7e, #7e7e7e 10px, #5c5c5c 10px, #5c5c5c 20px);\n",
       "    }\n",
       "    .progress-bar-interrupted, .progress-bar-interrupted::-webkit-progress-bar {\n",
       "        background: #F44336;\n",
       "    }\n",
       "</style>\n"
      ],
      "text/plain": [
       "<IPython.core.display.HTML object>"
      ]
     },
     "metadata": {},
     "output_type": "display_data"
    },
    {
     "data": {
      "text/html": [],
      "text/plain": [
       "<IPython.core.display.HTML object>"
      ]
     },
     "metadata": {},
     "output_type": "display_data"
    },
    {
     "data": {
      "text/html": [
       "\n",
       "<style>\n",
       "    /* Turns off some styling */\n",
       "    progress {\n",
       "        /* gets rid of default border in Firefox and Opera. */\n",
       "        border: none;\n",
       "        /* Needs to be in here for Safari polyfill so background images work as expected. */\n",
       "        background-size: auto;\n",
       "    }\n",
       "    progress:not([value]), progress:not([value])::-webkit-progress-bar {\n",
       "        background: repeating-linear-gradient(45deg, #7e7e7e, #7e7e7e 10px, #5c5c5c 10px, #5c5c5c 20px);\n",
       "    }\n",
       "    .progress-bar-interrupted, .progress-bar-interrupted::-webkit-progress-bar {\n",
       "        background: #F44336;\n",
       "    }\n",
       "</style>\n"
      ],
      "text/plain": [
       "<IPython.core.display.HTML object>"
      ]
     },
     "metadata": {},
     "output_type": "display_data"
    },
    {
     "data": {
      "text/html": [],
      "text/plain": [
       "<IPython.core.display.HTML object>"
      ]
     },
     "metadata": {},
     "output_type": "display_data"
    },
    {
     "data": {
      "text/html": [
       "\n",
       "<style>\n",
       "    /* Turns off some styling */\n",
       "    progress {\n",
       "        /* gets rid of default border in Firefox and Opera. */\n",
       "        border: none;\n",
       "        /* Needs to be in here for Safari polyfill so background images work as expected. */\n",
       "        background-size: auto;\n",
       "    }\n",
       "    progress:not([value]), progress:not([value])::-webkit-progress-bar {\n",
       "        background: repeating-linear-gradient(45deg, #7e7e7e, #7e7e7e 10px, #5c5c5c 10px, #5c5c5c 20px);\n",
       "    }\n",
       "    .progress-bar-interrupted, .progress-bar-interrupted::-webkit-progress-bar {\n",
       "        background: #F44336;\n",
       "    }\n",
       "</style>\n"
      ],
      "text/plain": [
       "<IPython.core.display.HTML object>"
      ]
     },
     "metadata": {},
     "output_type": "display_data"
    },
    {
     "data": {
      "text/html": [],
      "text/plain": [
       "<IPython.core.display.HTML object>"
      ]
     },
     "metadata": {},
     "output_type": "display_data"
    },
    {
     "data": {
      "text/html": [
       "\n",
       "<style>\n",
       "    /* Turns off some styling */\n",
       "    progress {\n",
       "        /* gets rid of default border in Firefox and Opera. */\n",
       "        border: none;\n",
       "        /* Needs to be in here for Safari polyfill so background images work as expected. */\n",
       "        background-size: auto;\n",
       "    }\n",
       "    progress:not([value]), progress:not([value])::-webkit-progress-bar {\n",
       "        background: repeating-linear-gradient(45deg, #7e7e7e, #7e7e7e 10px, #5c5c5c 10px, #5c5c5c 20px);\n",
       "    }\n",
       "    .progress-bar-interrupted, .progress-bar-interrupted::-webkit-progress-bar {\n",
       "        background: #F44336;\n",
       "    }\n",
       "</style>\n"
      ],
      "text/plain": [
       "<IPython.core.display.HTML object>"
      ]
     },
     "metadata": {},
     "output_type": "display_data"
    },
    {
     "data": {
      "text/html": [],
      "text/plain": [
       "<IPython.core.display.HTML object>"
      ]
     },
     "metadata": {},
     "output_type": "display_data"
    },
    {
     "data": {
      "text/html": [
       "\n",
       "<style>\n",
       "    /* Turns off some styling */\n",
       "    progress {\n",
       "        /* gets rid of default border in Firefox and Opera. */\n",
       "        border: none;\n",
       "        /* Needs to be in here for Safari polyfill so background images work as expected. */\n",
       "        background-size: auto;\n",
       "    }\n",
       "    progress:not([value]), progress:not([value])::-webkit-progress-bar {\n",
       "        background: repeating-linear-gradient(45deg, #7e7e7e, #7e7e7e 10px, #5c5c5c 10px, #5c5c5c 20px);\n",
       "    }\n",
       "    .progress-bar-interrupted, .progress-bar-interrupted::-webkit-progress-bar {\n",
       "        background: #F44336;\n",
       "    }\n",
       "</style>\n"
      ],
      "text/plain": [
       "<IPython.core.display.HTML object>"
      ]
     },
     "metadata": {},
     "output_type": "display_data"
    },
    {
     "data": {
      "text/html": [],
      "text/plain": [
       "<IPython.core.display.HTML object>"
      ]
     },
     "metadata": {},
     "output_type": "display_data"
    },
    {
     "data": {
      "text/html": [
       "\n",
       "<style>\n",
       "    /* Turns off some styling */\n",
       "    progress {\n",
       "        /* gets rid of default border in Firefox and Opera. */\n",
       "        border: none;\n",
       "        /* Needs to be in here for Safari polyfill so background images work as expected. */\n",
       "        background-size: auto;\n",
       "    }\n",
       "    progress:not([value]), progress:not([value])::-webkit-progress-bar {\n",
       "        background: repeating-linear-gradient(45deg, #7e7e7e, #7e7e7e 10px, #5c5c5c 10px, #5c5c5c 20px);\n",
       "    }\n",
       "    .progress-bar-interrupted, .progress-bar-interrupted::-webkit-progress-bar {\n",
       "        background: #F44336;\n",
       "    }\n",
       "</style>\n"
      ],
      "text/plain": [
       "<IPython.core.display.HTML object>"
      ]
     },
     "metadata": {},
     "output_type": "display_data"
    },
    {
     "data": {
      "text/html": [],
      "text/plain": [
       "<IPython.core.display.HTML object>"
      ]
     },
     "metadata": {},
     "output_type": "display_data"
    },
    {
     "data": {
      "text/html": [
       "\n",
       "<style>\n",
       "    /* Turns off some styling */\n",
       "    progress {\n",
       "        /* gets rid of default border in Firefox and Opera. */\n",
       "        border: none;\n",
       "        /* Needs to be in here for Safari polyfill so background images work as expected. */\n",
       "        background-size: auto;\n",
       "    }\n",
       "    progress:not([value]), progress:not([value])::-webkit-progress-bar {\n",
       "        background: repeating-linear-gradient(45deg, #7e7e7e, #7e7e7e 10px, #5c5c5c 10px, #5c5c5c 20px);\n",
       "    }\n",
       "    .progress-bar-interrupted, .progress-bar-interrupted::-webkit-progress-bar {\n",
       "        background: #F44336;\n",
       "    }\n",
       "</style>\n"
      ],
      "text/plain": [
       "<IPython.core.display.HTML object>"
      ]
     },
     "metadata": {},
     "output_type": "display_data"
    },
    {
     "data": {
      "text/html": [],
      "text/plain": [
       "<IPython.core.display.HTML object>"
      ]
     },
     "metadata": {},
     "output_type": "display_data"
    },
    {
     "data": {
      "text/html": [
       "\n",
       "<style>\n",
       "    /* Turns off some styling */\n",
       "    progress {\n",
       "        /* gets rid of default border in Firefox and Opera. */\n",
       "        border: none;\n",
       "        /* Needs to be in here for Safari polyfill so background images work as expected. */\n",
       "        background-size: auto;\n",
       "    }\n",
       "    progress:not([value]), progress:not([value])::-webkit-progress-bar {\n",
       "        background: repeating-linear-gradient(45deg, #7e7e7e, #7e7e7e 10px, #5c5c5c 10px, #5c5c5c 20px);\n",
       "    }\n",
       "    .progress-bar-interrupted, .progress-bar-interrupted::-webkit-progress-bar {\n",
       "        background: #F44336;\n",
       "    }\n",
       "</style>\n"
      ],
      "text/plain": [
       "<IPython.core.display.HTML object>"
      ]
     },
     "metadata": {},
     "output_type": "display_data"
    },
    {
     "data": {
      "text/html": [],
      "text/plain": [
       "<IPython.core.display.HTML object>"
      ]
     },
     "metadata": {},
     "output_type": "display_data"
    },
    {
     "data": {
      "text/html": [
       "\n",
       "<style>\n",
       "    /* Turns off some styling */\n",
       "    progress {\n",
       "        /* gets rid of default border in Firefox and Opera. */\n",
       "        border: none;\n",
       "        /* Needs to be in here for Safari polyfill so background images work as expected. */\n",
       "        background-size: auto;\n",
       "    }\n",
       "    progress:not([value]), progress:not([value])::-webkit-progress-bar {\n",
       "        background: repeating-linear-gradient(45deg, #7e7e7e, #7e7e7e 10px, #5c5c5c 10px, #5c5c5c 20px);\n",
       "    }\n",
       "    .progress-bar-interrupted, .progress-bar-interrupted::-webkit-progress-bar {\n",
       "        background: #F44336;\n",
       "    }\n",
       "</style>\n"
      ],
      "text/plain": [
       "<IPython.core.display.HTML object>"
      ]
     },
     "metadata": {},
     "output_type": "display_data"
    },
    {
     "data": {
      "text/html": [],
      "text/plain": [
       "<IPython.core.display.HTML object>"
      ]
     },
     "metadata": {},
     "output_type": "display_data"
    },
    {
     "data": {
      "text/html": [
       "\n",
       "<style>\n",
       "    /* Turns off some styling */\n",
       "    progress {\n",
       "        /* gets rid of default border in Firefox and Opera. */\n",
       "        border: none;\n",
       "        /* Needs to be in here for Safari polyfill so background images work as expected. */\n",
       "        background-size: auto;\n",
       "    }\n",
       "    progress:not([value]), progress:not([value])::-webkit-progress-bar {\n",
       "        background: repeating-linear-gradient(45deg, #7e7e7e, #7e7e7e 10px, #5c5c5c 10px, #5c5c5c 20px);\n",
       "    }\n",
       "    .progress-bar-interrupted, .progress-bar-interrupted::-webkit-progress-bar {\n",
       "        background: #F44336;\n",
       "    }\n",
       "</style>\n"
      ],
      "text/plain": [
       "<IPython.core.display.HTML object>"
      ]
     },
     "metadata": {},
     "output_type": "display_data"
    },
    {
     "data": {
      "text/html": [],
      "text/plain": [
       "<IPython.core.display.HTML object>"
      ]
     },
     "metadata": {},
     "output_type": "display_data"
    },
    {
     "data": {
      "text/html": [
       "\n",
       "<style>\n",
       "    /* Turns off some styling */\n",
       "    progress {\n",
       "        /* gets rid of default border in Firefox and Opera. */\n",
       "        border: none;\n",
       "        /* Needs to be in here for Safari polyfill so background images work as expected. */\n",
       "        background-size: auto;\n",
       "    }\n",
       "    progress:not([value]), progress:not([value])::-webkit-progress-bar {\n",
       "        background: repeating-linear-gradient(45deg, #7e7e7e, #7e7e7e 10px, #5c5c5c 10px, #5c5c5c 20px);\n",
       "    }\n",
       "    .progress-bar-interrupted, .progress-bar-interrupted::-webkit-progress-bar {\n",
       "        background: #F44336;\n",
       "    }\n",
       "</style>\n"
      ],
      "text/plain": [
       "<IPython.core.display.HTML object>"
      ]
     },
     "metadata": {},
     "output_type": "display_data"
    },
    {
     "data": {
      "text/html": [],
      "text/plain": [
       "<IPython.core.display.HTML object>"
      ]
     },
     "metadata": {},
     "output_type": "display_data"
    },
    {
     "data": {
      "text/html": [
       "\n",
       "<style>\n",
       "    /* Turns off some styling */\n",
       "    progress {\n",
       "        /* gets rid of default border in Firefox and Opera. */\n",
       "        border: none;\n",
       "        /* Needs to be in here for Safari polyfill so background images work as expected. */\n",
       "        background-size: auto;\n",
       "    }\n",
       "    progress:not([value]), progress:not([value])::-webkit-progress-bar {\n",
       "        background: repeating-linear-gradient(45deg, #7e7e7e, #7e7e7e 10px, #5c5c5c 10px, #5c5c5c 20px);\n",
       "    }\n",
       "    .progress-bar-interrupted, .progress-bar-interrupted::-webkit-progress-bar {\n",
       "        background: #F44336;\n",
       "    }\n",
       "</style>\n"
      ],
      "text/plain": [
       "<IPython.core.display.HTML object>"
      ]
     },
     "metadata": {},
     "output_type": "display_data"
    },
    {
     "data": {
      "text/html": [],
      "text/plain": [
       "<IPython.core.display.HTML object>"
      ]
     },
     "metadata": {},
     "output_type": "display_data"
    },
    {
     "data": {
      "text/html": [
       "\n",
       "<style>\n",
       "    /* Turns off some styling */\n",
       "    progress {\n",
       "        /* gets rid of default border in Firefox and Opera. */\n",
       "        border: none;\n",
       "        /* Needs to be in here for Safari polyfill so background images work as expected. */\n",
       "        background-size: auto;\n",
       "    }\n",
       "    progress:not([value]), progress:not([value])::-webkit-progress-bar {\n",
       "        background: repeating-linear-gradient(45deg, #7e7e7e, #7e7e7e 10px, #5c5c5c 10px, #5c5c5c 20px);\n",
       "    }\n",
       "    .progress-bar-interrupted, .progress-bar-interrupted::-webkit-progress-bar {\n",
       "        background: #F44336;\n",
       "    }\n",
       "</style>\n"
      ],
      "text/plain": [
       "<IPython.core.display.HTML object>"
      ]
     },
     "metadata": {},
     "output_type": "display_data"
    },
    {
     "data": {
      "text/html": [],
      "text/plain": [
       "<IPython.core.display.HTML object>"
      ]
     },
     "metadata": {},
     "output_type": "display_data"
    },
    {
     "name": "stdout",
     "output_type": "stream",
     "text": [
      "Test Set (Canonical)\n",
      "RMSE: tensor(10.4147)\n",
      "MAE: tensor(8.4032)\n",
      "R2: tensor(0.3324)\n",
      "Test Set (Average)\n",
      "RMSE: tensor(9.5953)\n",
      "R2: tensor(0.4333)\n",
      "MAE: tensor(7.5862)\n",
      "           0\n",
      "0    61.7026\n",
      "1    68.7779\n",
      "2    52.5514\n",
      "3    56.7865\n",
      "4    74.0658\n",
      "..       ...\n",
      "169  53.5452\n",
      "170  59.4516\n",
      "171  72.2125\n",
      "172  67.1033\n",
      "173  88.3788\n",
      "\n",
      "[174 rows x 1 columns]\n",
      "[['O=C(C1=C(OC2=C(C#N)C=CC=C2)C=CC=C1)C3=CC=CC=C3.C=CC(N(C)C)=O.CC(=O)[O-].CC(=O)[O-].[Pd+2].O=C(O)[C@H](C(C)C)NC(C)=O.C(=O)([O-])[O-].[Ag+].[Ag+].OC(C(F)(F)F)C(F)(F)F.ClCCCl'\n",
      "  83 61.7026]\n",
      " ['O=S(CC1=CC=CC=C1C)(OC2=C(C#N)C=CC=C2)=O.CC(OI(OC(C)=O)C1=CC=CC=C1)=O.CC(=O)[O-].CC(=O)[O-].[Pd+2].C[C@H](NC(=O)OC(C)(C)C)C(O)=O.OC(C(F)(F)F)C(F)(F)F'\n",
      "  75 68.7779]\n",
      " ['O=C(OC1=C(C#N)C=C(OC)C=C1)CC2=CC=C(OC)C=C2.C=CC(OCC)=O.CC(=O)[O-].CC(=O)[O-].[Pd+2].CC(=O)NCC(=O)O.C(=O)([O-])[O-].[Ag+].[Ag+].OC(C(F)(F)F)C(F)(F)F'\n",
      "  72 52.5514]\n",
      " ['O=C(C1=C(C#N)C=CC=C1)N(C)CC(CC(OC)=O)C2=CC=C(Cl)C=C2.C=CC(OCC)=O.CC(O[Pd]OC(C)=O)=O.CC(=O)NCC(=O)O.CC(=O)[O-].[Ag+].OC(C(F)(F)F)C(F)(F)F.ClCCCl'\n",
      "  57 56.7865]\n",
      " ...\n",
      " ['O=C(OC1=C(C#N)C=CC(OC)=C1)CCC2=CC=CC=C2.BrC#CC1(O[Si](C)(C)C)C(C(C)C)CC(C)CC1.Cl[Rh].Cl[Rh].C1CC=CCCC=C1.C2CC=CCCC=C2.[O-]S(=O)(=O)[O-].[Ag+].[Ag+].ClCCCl'\n",
      "  70 59.4516]\n",
      " ['O=C(OC1=C(C#N)C=CC=C1)CC2=CC=C(F)C=C2.C=CC(OCC)=O.CC(=O)[O-].CC(=O)[O-].[Pd+2].CC(=O)NCC(=O)O.C(=O)([O-])[O-].[Ag+].[Ag+].OC(C(F)(F)F)C(F)(F)F'\n",
      "  69 72.2125]\n",
      " ['O=S(CCC1=CC=CC=C1)(OC2=C(C#N)C=C(/C=C/C(OCC)=O)C=C2)=O.C=CC(N(C)C)=O.CC(=O)[O-].CC(=O)[O-].[Pd+2].C(C(=O)O)NC=O.CC(=O)[O-].[Ag+].C(C(F)(F)F)(C(F)(F)F)O'\n",
      "  50 67.1033]\n",
      " ['O=C(N(C1=C(C#N)C=CC=C1)C2=CC=CC=C2C#N)CC3=C(OC)C=CC=C3.C=CC=O.CC(=O)[O-].CC(=O)[O-].[Pd+2].O=CNCC(O)=O.CC(=O)[O-].[Ag+].OC(C(F)(F)F)C(F)(F)F'\n",
      "  80 88.3788]]\n"
     ]
    }
   ],
   "source": [
    "# Define a function to process a single sheet\n",
    "def process_sheet(sheet_name):\n",
    "    df = pd.read_excel('/raid/aiccg/rbsunoj/supratim/ulmfit/Data/C-H-activation/866-reaction-yield-CV_1-20.xlsx', sheet_name=sheet_name)\n",
    "    df = df[['smiles', 'Yield']]\n",
    "    df['Yield'] = [int(i) for i in df['Yield']]\n",
    "    \n",
    "    train = df.iloc[:605, :]\n",
    "    valid = df.iloc[605:692, :]\n",
    "    test = df.iloc[692:, :]\n",
    "    \n",
    "    random_seed(1234, True)\n",
    "\n",
    "    train_aug = ee_smiles_augmentation(train, 50, noise=0.6)\n",
    "    print(\"Train_aug: \", train_aug.shape)\n",
    "    \n",
    "\n",
    "        \n",
    "    bs = 128\n",
    "    tok = Tokenizer(partial(MolTokenizer, special_tokens = special_tokens), n_cpus=6, pre_rules=[], post_rules=[])\n",
    "        \n",
    "    np.warnings.filterwarnings('ignore', category=np.VisibleDeprecationWarning)\n",
    "    random_seed(1234, True)\n",
    "        \n",
    "    lm_vocab = TextLMDataBunch.from_df(path, train_aug, valid, bs=bs, tokenizer=tok,\n",
    "                              chunksize=50000, text_cols=0,label_cols=1, max_vocab=60000, include_bos=False, min_freq=1, num_workers=0)\n",
    "    print(f'Vocab Size: {len(lm_vocab.vocab.itos)}')\n",
    "    \n",
    "    pretrained_model_path = Path('/raid/aiccg/rbsunoj/supratim/chemdraw/pretrain3-aug-new/without_heavymetal/C-H-activation/models/')\n",
    "    pretrained_fnames = ['C-H-activation_100_wt', 'C-H-activation_100_vocab']\n",
    "    fnames = [pretrained_model_path/f'{fn}.{ext}' for fn,ext in zip(pretrained_fnames, ['pth', 'pkl'])]\n",
    "        \n",
    "    random_seed(1234, True)\n",
    "\n",
    "    data_clas = TextClasDataBunch.from_df(path, train_aug, valid, bs=bs, tokenizer=tok,\n",
    "                                                  chunksize=50000, text_cols='smiles',label_cols='Yield',\n",
    "                                                  vocab=lm_vocab.vocab, max_vocab=60000, include_bos=False, min_freq=1, num_workers=0)\n",
    "        \n",
    "    print(f'Vocab Size: {len(data_clas.vocab.itos)}')\n",
    "        \n",
    "    random_seed(1234, True)\n",
    "\n",
    "    lm_learner = language_model_learner(lm_vocab, AWD_LSTM, drop_mult=0.5, wd=0.00, pretrained=False)\n",
    "    lm_learner = lm_learner.load_pretrained(*fnames)\n",
    "    lm_learner.freeze()\n",
    "    lm_learner.save_encoder(f'lm_encoder') \n",
    "        \n",
    "    random_seed(1234, True)\n",
    "\n",
    "    reg_learner = text_classifier_learner(data_clas, AWD_LSTM, pretrained=False, drop_mult=0.5, wd=0.00, metrics = [r2_score, rmse])\n",
    "    reg_learner.load_encoder(f'lm_encoder')\n",
    "    reg_learner.freeze()  \n",
    "        \n",
    "    reg_learner.model\n",
    "        \n",
    "    random_seed(1234, True)\n",
    "\n",
    "    reg_learner.unfreeze()\n",
    "    reg_learner.fit_one_cycle(20, 0.001, moms=(0.8,0.7))\n",
    "        \n",
    "    split_id = 1\n",
    "    reg_learner.save(f'{split_id}_reg-866-random')\n",
    "        \n",
    "    preds = []\n",
    "\n",
    "    # Randomized SMILES Predictions\n",
    "    for i in range(4):\n",
    "        np.random.seed(i)\n",
    "        test_aug = test_smiles_augmentation(test,1)\n",
    "        \n",
    "        #model\n",
    "        test_db = TextClasDataBunch.from_df(path, train_aug, test_aug, tokenizer=tok, vocab=lm_vocab.vocab,\n",
    "                                                    text_cols='smiles', label_cols='Yield', bs=bs, include_bos=False)\n",
    "        \n",
    "        learner = text_classifier_learner(test_db, AWD_LSTM, pretrained=False, drop_mult=0.5, wd=0.00, metrics = [r2_score, root_mean_squared_error])\n",
    "        #print(test_db)\n",
    "        learner.load(f'{split_id}_reg-866-random');\n",
    "        \n",
    "        #get predictions\n",
    "        pred,lbl = learner.get_preds(ds_type=DatasetType.Valid)\n",
    "        \n",
    "        preds.append(pred)\n",
    "        \n",
    "    # Canonical SMILES Predictions\n",
    "    test_db = TextClasDataBunch.from_df(path, train_aug, test, bs=bs, tokenizer=tok,\n",
    "                                      chunksize=50000, text_cols='smiles',label_cols='Yield', vocab=lm_vocab.vocab, max_vocab=60000,\n",
    "                                                      include_bos=False)\n",
    "        \n",
    "    learner = text_classifier_learner(test_db, AWD_LSTM, pretrained=False, drop_mult=0.5, wd=0.00, metrics = [r2_score, root_mean_squared_error])\n",
    "        \n",
    "    learner.load(f'{split_id}_reg-866-random');\n",
    "        \n",
    "        \n",
    "    #get predictions\n",
    "    pred_canonical,lbl = learner.get_preds(ds_type=DatasetType.Valid)\n",
    "        \n",
    "    preds.append(pred_canonical)\n",
    "    \n",
    "    print('Test Set (Canonical)')\n",
    "    print('RMSE:', root_mean_squared_error(pred_canonical,lbl))\n",
    "    print('MAE:', mean_absolute_error(pred_canonical,lbl))\n",
    "    print('R2:', r2_score(pred_canonical,lbl))\n",
    "    avg_preds = sum(preds)/len(preds)\n",
    "    #print('\\n')\n",
    "    print('Test Set (Average)')\n",
    "    print('RMSE:', root_mean_squared_error(avg_preds,lbl))\n",
    "    print('R2:', r2_score(avg_preds,lbl))\n",
    "    print('MAE:', mean_absolute_error(avg_preds,lbl))\n",
    "    \n",
    "    pred1=pd.DataFrame(pred)\n",
    "    def remove_tensor(x):\n",
    "        return float(str(x).replace('tensor(', '').replace(')', ''))\n",
    "    pred1 = pred1.applymap(remove_tensor)\n",
    "    print(pred1)\n",
    "        \n",
    "    # Concatenate the two arrays column-wise\n",
    "    concatenated_arr = np.column_stack((test, pred1))\n",
    "        \n",
    "    # Print the result\n",
    "    print(concatenated_arr)\n",
    "        \n",
    "    a1=pd.DataFrame(concatenated_arr)\n",
    "    #a1.to_csv('/raid/aiccg/rbsunoj/supratim/ulmfit/outputs/C-H-activation/866-result/860-test-pred-p0_' + sheet_name +'.csv')\n",
    "        \n",
    "# Loop through all sheet names and process each sheet\n",
    "# Loop through all sheet names and process each sheet\n",
    "for sheet_num in range(1, 2):  # Assuming sheet names are FullCV_1, FullCV_2, ..., FullCV_20\n",
    "    sheet_name = f'866-reaction-yield-CV_{sheet_num}'\n",
    "    print(f\"Processing sheet: {sheet_name}\")\n",
    "    process_sheet(sheet_name)\n",
    "        "
   ]
  },
  {
   "cell_type": "code",
   "execution_count": null,
   "id": "0e09405b",
   "metadata": {},
   "outputs": [],
   "source": []
  }
 ],
 "metadata": {
  "kernelspec": {
   "display_name": "ulmfit",
   "language": "python",
   "name": "ulmfit"
  },
  "language_info": {
   "codemirror_mode": {
    "name": "ipython",
    "version": 3
   },
   "file_extension": ".py",
   "mimetype": "text/x-python",
   "name": "python",
   "nbconvert_exporter": "python",
   "pygments_lexer": "ipython3",
   "version": "3.7.12"
  }
 },
 "nbformat": 4,
 "nbformat_minor": 5
}
