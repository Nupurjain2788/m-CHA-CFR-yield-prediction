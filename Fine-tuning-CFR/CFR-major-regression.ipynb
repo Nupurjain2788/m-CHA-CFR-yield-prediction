{
 "cells": [
  {
   "cell_type": "code",
   "execution_count": 12,
   "id": "06723279",
   "metadata": {},
   "outputs": [],
   "source": [
    "# Import necessary libraries\n",
    "import os\n",
    "import sys\n",
    "import torch\n",
    "import random\n",
    "import threading\n",
    "import numpy as np\n",
    "import pandas as pd\n",
    "from pathlib import Path\n",
    "\n",
    "# Set environment variables for GPU and device configuration\n",
    "# os.environ['CUDA_VISIBLE_DEVICES'] = '5'  # Uncomment to set a different GPU\n",
    "%env CUDA_VISIBLE_DEVICES=4\n",
    "device = torch.device('cuda:4' if torch.cuda.is_available() else \"cpu\")\n",
    "\n",
    "# Add custom paths to the Python environment\n",
    "sys.path.append('./fastai1/')\n",
    "\n",
    "# Disable RDKit warning messages\n",
    "from rdkit import Chem\n",
    "from rdkit.Chem import Draw\n",
    "from rdkit.Chem.Draw import IPythonConsole\n",
    "from rdkit import RDLogger\n",
    "RDLogger.DisableLog('rdApp.*')\n",
    "\n",
    "# Import FastAI modules\n",
    "from fastai import *\n",
    "from fastai.text import *\n",
    "from fastai.vision import *\n",
    "from fastai.imports import *\n",
    "\n",
    "# Import PyTorch and related libraries\n",
    "import torch.nn.functional as F\n",
    "import torchvision\n",
    "\n",
    "# Import Scikit-learn utilities\n",
    "from sklearn.utils import shuffle\n",
    "from sklearn.model_selection import train_test_split\n",
    "\n",
    "# Display the current working directory\n",
    "current_path = os.getcwd()\n",
    "print(f\"Current working directory: {current_path}\")\n",
    "\n",
    "# Enable interactive features for Jupyter Notebook\n",
    "%reload_ext autoreload\n",
    "%autoreload 2\n",
    "%matplotlib inline\n"
   ]
  },
  {
   "cell_type": "code",
   "execution_count": 15,
   "id": "35776b30",
   "metadata": {},
   "outputs": [],
   "source": [
    "# Don't include the defalut specific token of fastai, only keep the padding token\n",
    "BOS,EOS,FLD,UNK,PAD = 'xxbos','xxeos','xxfld','xxunk','xxpad'\n",
    "TK_MAJ,TK_UP,TK_REP,TK_WREP = 'xxmaj','xxup','xxrep','xxwrep'\n",
    "defaults.text_spec_tok = [PAD]\n",
    "\n",
    "special_tokens = ['[BOS]', '[C@H]', '[C@@H]','[C@]', '[C@@]','[C-]','[C+]', '[c-]', '[c+]','[cH-]',\n",
    "                   '[nH]', '[N+]', '[N-]', '[n+]', '[n-]' '[NH+]', '[NH2+]',\n",
    "                   '[O-]', '[S+]', '[s+]', '[S-]', '[O+]', '[SH]', '[B-]','[BH2-]', '[BH3-]','[b-]',\n",
    "                   '[PH]','[P+]', '[I+]',\n",
    "                  '[Si]','[SiH2]', '[Se]','[SeH]', '[se]', '[Se+]', '[se+]','[te]','[te+]', '[Te]',\n",
    "                  '[Pd+2]', '[Cs+]','[N@@+]','[Na+]','[OH-]','[N@]','[K+]','[F-]','[Rh]','[Ag+]','[Si]', \n",
    "                  '[Pd]', '[Cs2+]', '[Cu]', '[Cu+2]', '[Ge]', '[Sb-]', '[Cl+]', '[Cl-]', '[Br-]', '[NH4+]', \n",
    "                  '[P-]',\n",
    "                  ]\n",
    "\n",
    "class MolTokenizer(BaseTokenizer):\n",
    "    def __init__(self, lang = 'en', special_tokens = special_tokens):\n",
    "        self.lang = lang\n",
    "        self.special_tokens = special_tokens\n",
    "\n",
    "    def tokenizer(self, smiles):\n",
    "        # add specific token '[BOS]' to represetences the start of SMILES\n",
    "        smiles = '[BOS]' + smiles\n",
    "        regex = '(\\[[^\\[\\]]{1,10}\\])'\n",
    "        char_list = re.split(regex, smiles)\n",
    "        tokens = []\n",
    "\n",
    "        if self.special_tokens:\n",
    "            for char in char_list:\n",
    "                if char.startswith('['):\n",
    "                    if char in special_tokens:\n",
    "                        tokens.append(str(char))\n",
    "                    else:\n",
    "                        tokens.append('[UNK]')\n",
    "                else:\n",
    "                    chars = [unit for unit in char]\n",
    "                    [tokens.append(i) for i in chars]\n",
    "\n",
    "        if not self.special_tokens:\n",
    "            for char in char_list:\n",
    "                if char.startswith('['):\n",
    "                    tokens.append(str(char))\n",
    "                else:\n",
    "                    chars = [unit for unit in char]\n",
    "                    [tokens.append(i) for i in chars]\n",
    "\n",
    "        #fix the 'Br' be splited into 'B' and 'r'\n",
    "        if 'B' in tokens:\n",
    "            for index, tok in enumerate(tokens):\n",
    "                if tok == 'B':\n",
    "                    if index < len(tokens)-1: # make sure 'B' is not the last character\n",
    "                        if tokens[index+1] == 'r':\n",
    "                            tokens[index: index+2] = [reduce(lambda i, j: i + j, tokens[index : index+2])]\n",
    "\n",
    "        #fix the 'Cl' be splited into 'C' and 'l'\n",
    "        if 'l' in tokens:\n",
    "            for index, tok in enumerate(tokens):\n",
    "                if tok == 'l':\n",
    "                    if tokens[index-1] == 'C':\n",
    "                            tokens[index-1: index+1] = [reduce(lambda i, j: i + j, tokens[index-1 : index+1])]\n",
    "        return tokens\n",
    "\n",
    "    def add_special_cases(self, toks):\n",
    "        pass\n",
    "    \n"
   ]
  },
  {
   "cell_type": "code",
   "execution_count": 16,
   "id": "3a16d015",
   "metadata": {},
   "outputs": [],
   "source": [
    "def random_seed(seed_value, use_cuda):\n",
    "    np.random.seed(seed_value) # cpu vars\n",
    "    torch.manual_seed(seed_value) # cpu  vars\n",
    "    random.seed(seed_value) # Python\n",
    "    if use_cuda:\n",
    "        torch.cuda.manual_seed(seed_value)\n",
    "        torch.cuda.manual_seed_all(seed_value) # gpu vars\n",
    "        torch.backends.cudnn.deterministic = True  #needed\n",
    "        torch.backends.cudnn.benchmark = False"
   ]
  },
  {
   "cell_type": "code",
   "execution_count": 17,
   "id": "1c3ce6c6",
   "metadata": {},
   "outputs": [],
   "source": [
    "def randomize_smiles(smiles):\n",
    "    m = Chem.MolFromSmiles(smiles)\n",
    "    ans = list(range(m.GetNumAtoms()))\n",
    "    np.random.shuffle(ans)\n",
    "    nm = Chem.RenumberAtoms(m,ans)\n",
    "    return Chem.MolToSmiles(nm, canonical=False, isomericSmiles=True, kekuleSmiles=False)"
   ]
  },
  {
   "cell_type": "code",
   "execution_count": 18,
   "id": "1ba58a9b",
   "metadata": {},
   "outputs": [],
   "source": [
    "def ee_smiles_augmentation(df, N_rounds, noise):\n",
    "    '''\n",
    "    noise: add gaussion noise to the label\n",
    "    '''\n",
    "    dist_aug = {col_name: [] for col_name in df}\n",
    "\n",
    "    for i in range(df.shape[0]):\n",
    "        for j in range(N_rounds):\n",
    "            dist_aug['smiles'].append(randomize_smiles(df.iloc[i].smiles))\n",
    "            dist_aug['Yield'].append(df.iloc[i]['Yield'] + np.random.normal(0,noise))\n",
    "    print(len(dist_aug['smiles']))\n",
    "    print(len(dist_aug['Yield']))\n",
    "    #print(len(smiles))\n",
    "    df_aug = pd.DataFrame.from_dict(dist_aug)\n",
    "    df_aug = df_aug.append(df, ignore_index=True)\n",
    "    return df_aug.drop_duplicates('smiles')"
   ]
  },
  {
   "cell_type": "code",
   "execution_count": 19,
   "id": "912231c8",
   "metadata": {},
   "outputs": [],
   "source": [
    "def test_smiles_augmentation(df, N_rounds):\n",
    "    dist_aug = {col_name: [] for col_name in df}\n",
    "\n",
    "    for i in range(df.shape[0]):\n",
    "        for j in range(N_rounds):\n",
    "            dist_aug['smiles'].append(randomize_smiles(df.iloc[i].smiles))\n",
    "            dist_aug['Yield'].append(df.iloc[i]['Yield'])\n",
    "    df_aug = pd.DataFrame.from_dict(dist_aug)\n",
    "\n",
    "    return pd.DataFrame.from_dict(dist_aug)"
   ]
  },
  {
   "cell_type": "code",
   "execution_count": 20,
   "id": "0d82ce4e",
   "metadata": {},
   "outputs": [],
   "source": [
    "random_seed(1234, True)\n",
    "\n",
    "# Create a path to save the results\n",
    "data_path = Path('./ulmfit/results')\n",
    "name = 'regressor'\n",
    "path = data_path / name\n",
    "path.mkdir(exist_ok=True, parents=True)"
   ]
  },
  {
   "cell_type": "code",
   "execution_count": 24,
   "id": "2b0fdccd-994d-4be4-bcb4-e5737cac52b7",
   "metadata": {
    "tags": []
   },
   "outputs": [
    {
     "name": "stdout",
     "output_type": "stream",
     "text": [
      "Processing sheet: FullCV_1\n",
      "12450\n",
      "12450\n",
      "Train_aug:  (12948, 2)\n"
     ]
    },
    {
     "data": {
      "text/html": [
       "\n",
       "<style>\n",
       "    /* Turns off some styling */\n",
       "    progress {\n",
       "        /* gets rid of default border in Firefox and Opera. */\n",
       "        border: none;\n",
       "        /* Needs to be in here for Safari polyfill so background images work as expected. */\n",
       "        background-size: auto;\n",
       "    }\n",
       "    progress:not([value]), progress:not([value])::-webkit-progress-bar {\n",
       "        background: repeating-linear-gradient(45deg, #7e7e7e, #7e7e7e 10px, #5c5c5c 10px, #5c5c5c 20px);\n",
       "    }\n",
       "    .progress-bar-interrupted, .progress-bar-interrupted::-webkit-progress-bar {\n",
       "        background: #F44336;\n",
       "    }\n",
       "</style>\n"
      ],
      "text/plain": [
       "<IPython.core.display.HTML object>"
      ]
     },
     "metadata": {},
     "output_type": "display_data"
    },
    {
     "data": {
      "text/html": [],
      "text/plain": [
       "<IPython.core.display.HTML object>"
      ]
     },
     "metadata": {},
     "output_type": "display_data"
    },
    {
     "data": {
      "text/html": [
       "\n",
       "<style>\n",
       "    /* Turns off some styling */\n",
       "    progress {\n",
       "        /* gets rid of default border in Firefox and Opera. */\n",
       "        border: none;\n",
       "        /* Needs to be in here for Safari polyfill so background images work as expected. */\n",
       "        background-size: auto;\n",
       "    }\n",
       "    progress:not([value]), progress:not([value])::-webkit-progress-bar {\n",
       "        background: repeating-linear-gradient(45deg, #7e7e7e, #7e7e7e 10px, #5c5c5c 10px, #5c5c5c 20px);\n",
       "    }\n",
       "    .progress-bar-interrupted, .progress-bar-interrupted::-webkit-progress-bar {\n",
       "        background: #F44336;\n",
       "    }\n",
       "</style>\n"
      ],
      "text/plain": [
       "<IPython.core.display.HTML object>"
      ]
     },
     "metadata": {},
     "output_type": "display_data"
    },
    {
     "data": {
      "text/html": [],
      "text/plain": [
       "<IPython.core.display.HTML object>"
      ]
     },
     "metadata": {},
     "output_type": "display_data"
    },
    {
     "name": "stdout",
     "output_type": "stream",
     "text": [
      "Vocab Size: 48\n"
     ]
    },
    {
     "data": {
      "text/html": [
       "\n",
       "<style>\n",
       "    /* Turns off some styling */\n",
       "    progress {\n",
       "        /* gets rid of default border in Firefox and Opera. */\n",
       "        border: none;\n",
       "        /* Needs to be in here for Safari polyfill so background images work as expected. */\n",
       "        background-size: auto;\n",
       "    }\n",
       "    progress:not([value]), progress:not([value])::-webkit-progress-bar {\n",
       "        background: repeating-linear-gradient(45deg, #7e7e7e, #7e7e7e 10px, #5c5c5c 10px, #5c5c5c 20px);\n",
       "    }\n",
       "    .progress-bar-interrupted, .progress-bar-interrupted::-webkit-progress-bar {\n",
       "        background: #F44336;\n",
       "    }\n",
       "</style>\n"
      ],
      "text/plain": [
       "<IPython.core.display.HTML object>"
      ]
     },
     "metadata": {},
     "output_type": "display_data"
    },
    {
     "data": {
      "text/html": [],
      "text/plain": [
       "<IPython.core.display.HTML object>"
      ]
     },
     "metadata": {},
     "output_type": "display_data"
    },
    {
     "data": {
      "text/html": [
       "\n",
       "<style>\n",
       "    /* Turns off some styling */\n",
       "    progress {\n",
       "        /* gets rid of default border in Firefox and Opera. */\n",
       "        border: none;\n",
       "        /* Needs to be in here for Safari polyfill so background images work as expected. */\n",
       "        background-size: auto;\n",
       "    }\n",
       "    progress:not([value]), progress:not([value])::-webkit-progress-bar {\n",
       "        background: repeating-linear-gradient(45deg, #7e7e7e, #7e7e7e 10px, #5c5c5c 10px, #5c5c5c 20px);\n",
       "    }\n",
       "    .progress-bar-interrupted, .progress-bar-interrupted::-webkit-progress-bar {\n",
       "        background: #F44336;\n",
       "    }\n",
       "</style>\n"
      ],
      "text/plain": [
       "<IPython.core.display.HTML object>"
      ]
     },
     "metadata": {},
     "output_type": "display_data"
    },
    {
     "data": {
      "text/html": [],
      "text/plain": [
       "<IPython.core.display.HTML object>"
      ]
     },
     "metadata": {},
     "output_type": "display_data"
    },
    {
     "name": "stdout",
     "output_type": "stream",
     "text": [
      "Vocab Size: 48\n"
     ]
    },
    {
     "data": {
      "text/html": [
       "\n",
       "<style>\n",
       "    /* Turns off some styling */\n",
       "    progress {\n",
       "        /* gets rid of default border in Firefox and Opera. */\n",
       "        border: none;\n",
       "        /* Needs to be in here for Safari polyfill so background images work as expected. */\n",
       "        background-size: auto;\n",
       "    }\n",
       "    progress:not([value]), progress:not([value])::-webkit-progress-bar {\n",
       "        background: repeating-linear-gradient(45deg, #7e7e7e, #7e7e7e 10px, #5c5c5c 10px, #5c5c5c 20px);\n",
       "    }\n",
       "    .progress-bar-interrupted, .progress-bar-interrupted::-webkit-progress-bar {\n",
       "        background: #F44336;\n",
       "    }\n",
       "</style>\n"
      ],
      "text/plain": [
       "<IPython.core.display.HTML object>"
      ]
     },
     "metadata": {},
     "output_type": "display_data"
    },
    {
     "data": {
      "text/html": [
       "<table border=\"1\" class=\"dataframe\">\n",
       "  <thead>\n",
       "    <tr style=\"text-align: left;\">\n",
       "      <th>epoch</th>\n",
       "      <th>train_loss</th>\n",
       "      <th>valid_loss</th>\n",
       "      <th>r2_score</th>\n",
       "      <th>root_mean_squared_error</th>\n",
       "      <th>time</th>\n",
       "    </tr>\n",
       "  </thead>\n",
       "  <tbody>\n",
       "    <tr>\n",
       "      <td>0</td>\n",
       "      <td>4969.285645</td>\n",
       "      <td>4655.464844</td>\n",
       "      <td>-53.687531</td>\n",
       "      <td>68.213425</td>\n",
       "      <td>00:09</td>\n",
       "    </tr>\n",
       "    <tr>\n",
       "      <td>1</td>\n",
       "      <td>4859.100586</td>\n",
       "      <td>4451.551758</td>\n",
       "      <td>-51.291214</td>\n",
       "      <td>66.703728</td>\n",
       "      <td>00:09</td>\n",
       "    </tr>\n",
       "    <tr>\n",
       "      <td>2</td>\n",
       "      <td>4602.665039</td>\n",
       "      <td>4381.570801</td>\n",
       "      <td>-50.475067</td>\n",
       "      <td>66.171242</td>\n",
       "      <td>00:09</td>\n",
       "    </tr>\n",
       "    <tr>\n",
       "      <td>3</td>\n",
       "      <td>3808.385986</td>\n",
       "      <td>3532.896240</td>\n",
       "      <td>-40.505177</td>\n",
       "      <td>59.417744</td>\n",
       "      <td>00:09</td>\n",
       "    </tr>\n",
       "    <tr>\n",
       "      <td>4</td>\n",
       "      <td>2305.277588</td>\n",
       "      <td>2277.613770</td>\n",
       "      <td>-25.770926</td>\n",
       "      <td>47.681900</td>\n",
       "      <td>00:09</td>\n",
       "    </tr>\n",
       "    <tr>\n",
       "      <td>5</td>\n",
       "      <td>639.244629</td>\n",
       "      <td>361.847443</td>\n",
       "      <td>-3.257444</td>\n",
       "      <td>18.970720</td>\n",
       "      <td>00:09</td>\n",
       "    </tr>\n",
       "    <tr>\n",
       "      <td>6</td>\n",
       "      <td>102.712761</td>\n",
       "      <td>68.816719</td>\n",
       "      <td>0.191320</td>\n",
       "      <td>8.290602</td>\n",
       "      <td>00:09</td>\n",
       "    </tr>\n",
       "    <tr>\n",
       "      <td>7</td>\n",
       "      <td>78.173065</td>\n",
       "      <td>76.272827</td>\n",
       "      <td>0.102437</td>\n",
       "      <td>8.706487</td>\n",
       "      <td>00:09</td>\n",
       "    </tr>\n",
       "    <tr>\n",
       "      <td>8</td>\n",
       "      <td>70.771049</td>\n",
       "      <td>115.526268</td>\n",
       "      <td>-0.359862</td>\n",
       "      <td>10.707964</td>\n",
       "      <td>00:09</td>\n",
       "    </tr>\n",
       "    <tr>\n",
       "      <td>9</td>\n",
       "      <td>70.131691</td>\n",
       "      <td>73.255562</td>\n",
       "      <td>0.136653</td>\n",
       "      <td>8.495926</td>\n",
       "      <td>00:09</td>\n",
       "    </tr>\n",
       "    <tr>\n",
       "      <td>10</td>\n",
       "      <td>70.360901</td>\n",
       "      <td>65.646767</td>\n",
       "      <td>0.228679</td>\n",
       "      <td>8.098604</td>\n",
       "      <td>00:09</td>\n",
       "    </tr>\n",
       "    <tr>\n",
       "      <td>11</td>\n",
       "      <td>69.016068</td>\n",
       "      <td>68.563820</td>\n",
       "      <td>0.193152</td>\n",
       "      <td>8.254699</td>\n",
       "      <td>00:09</td>\n",
       "    </tr>\n",
       "    <tr>\n",
       "      <td>12</td>\n",
       "      <td>76.482811</td>\n",
       "      <td>68.856689</td>\n",
       "      <td>0.189677</td>\n",
       "      <td>8.271627</td>\n",
       "      <td>00:09</td>\n",
       "    </tr>\n",
       "    <tr>\n",
       "      <td>13</td>\n",
       "      <td>101.357086</td>\n",
       "      <td>122.154381</td>\n",
       "      <td>-0.432871</td>\n",
       "      <td>11.047623</td>\n",
       "      <td>00:09</td>\n",
       "    </tr>\n",
       "    <tr>\n",
       "      <td>14</td>\n",
       "      <td>104.719604</td>\n",
       "      <td>89.800438</td>\n",
       "      <td>-0.054618</td>\n",
       "      <td>9.475356</td>\n",
       "      <td>00:09</td>\n",
       "    </tr>\n",
       "    <tr>\n",
       "      <td>15</td>\n",
       "      <td>104.079475</td>\n",
       "      <td>90.505920</td>\n",
       "      <td>-0.062554</td>\n",
       "      <td>9.513425</td>\n",
       "      <td>00:09</td>\n",
       "    </tr>\n",
       "    <tr>\n",
       "      <td>16</td>\n",
       "      <td>105.924637</td>\n",
       "      <td>93.536835</td>\n",
       "      <td>-0.098409</td>\n",
       "      <td>9.670818</td>\n",
       "      <td>00:09</td>\n",
       "    </tr>\n",
       "    <tr>\n",
       "      <td>17</td>\n",
       "      <td>102.701904</td>\n",
       "      <td>94.223808</td>\n",
       "      <td>-0.105423</td>\n",
       "      <td>9.704315</td>\n",
       "      <td>00:09</td>\n",
       "    </tr>\n",
       "    <tr>\n",
       "      <td>18</td>\n",
       "      <td>105.605278</td>\n",
       "      <td>94.208244</td>\n",
       "      <td>-0.106611</td>\n",
       "      <td>9.703918</td>\n",
       "      <td>00:09</td>\n",
       "    </tr>\n",
       "    <tr>\n",
       "      <td>19</td>\n",
       "      <td>102.552345</td>\n",
       "      <td>96.077194</td>\n",
       "      <td>-0.127781</td>\n",
       "      <td>9.801855</td>\n",
       "      <td>00:09</td>\n",
       "    </tr>\n",
       "    <tr>\n",
       "      <td>20</td>\n",
       "      <td>105.836761</td>\n",
       "      <td>354.887238</td>\n",
       "      <td>-3.152551</td>\n",
       "      <td>18.635870</td>\n",
       "      <td>00:09</td>\n",
       "    </tr>\n",
       "    <tr>\n",
       "      <td>21</td>\n",
       "      <td>103.370598</td>\n",
       "      <td>89.935638</td>\n",
       "      <td>-0.056712</td>\n",
       "      <td>9.479083</td>\n",
       "      <td>00:09</td>\n",
       "    </tr>\n",
       "    <tr>\n",
       "      <td>22</td>\n",
       "      <td>107.217018</td>\n",
       "      <td>96.922043</td>\n",
       "      <td>-0.137413</td>\n",
       "      <td>9.844182</td>\n",
       "      <td>00:09</td>\n",
       "    </tr>\n",
       "    <tr>\n",
       "      <td>23</td>\n",
       "      <td>102.300125</td>\n",
       "      <td>294.609222</td>\n",
       "      <td>-2.447746</td>\n",
       "      <td>17.001616</td>\n",
       "      <td>00:09</td>\n",
       "    </tr>\n",
       "    <tr>\n",
       "      <td>24</td>\n",
       "      <td>104.302719</td>\n",
       "      <td>93.910698</td>\n",
       "      <td>-0.102456</td>\n",
       "      <td>9.690752</td>\n",
       "      <td>00:09</td>\n",
       "    </tr>\n",
       "    <tr>\n",
       "      <td>25</td>\n",
       "      <td>104.392471</td>\n",
       "      <td>100.001221</td>\n",
       "      <td>-0.173376</td>\n",
       "      <td>9.998526</td>\n",
       "      <td>00:09</td>\n",
       "    </tr>\n",
       "    <tr>\n",
       "      <td>26</td>\n",
       "      <td>99.969238</td>\n",
       "      <td>473.466614</td>\n",
       "      <td>-4.750806</td>\n",
       "      <td>14.648171</td>\n",
       "      <td>00:09</td>\n",
       "    </tr>\n",
       "    <tr>\n",
       "      <td>27</td>\n",
       "      <td>105.987610</td>\n",
       "      <td>113.946777</td>\n",
       "      <td>-0.336004</td>\n",
       "      <td>10.662883</td>\n",
       "      <td>00:09</td>\n",
       "    </tr>\n",
       "    <tr>\n",
       "      <td>28</td>\n",
       "      <td>103.793175</td>\n",
       "      <td>90.554794</td>\n",
       "      <td>-0.064499</td>\n",
       "      <td>9.506001</td>\n",
       "      <td>00:09</td>\n",
       "    </tr>\n",
       "    <tr>\n",
       "      <td>29</td>\n",
       "      <td>103.911743</td>\n",
       "      <td>96.120522</td>\n",
       "      <td>-0.131240</td>\n",
       "      <td>9.771506</td>\n",
       "      <td>00:09</td>\n",
       "    </tr>\n",
       "    <tr>\n",
       "      <td>30</td>\n",
       "      <td>102.586853</td>\n",
       "      <td>88.376686</td>\n",
       "      <td>-0.039363</td>\n",
       "      <td>9.383953</td>\n",
       "      <td>00:09</td>\n",
       "    </tr>\n",
       "    <tr>\n",
       "      <td>31</td>\n",
       "      <td>106.046295</td>\n",
       "      <td>511.883972</td>\n",
       "      <td>-5.013170</td>\n",
       "      <td>22.618773</td>\n",
       "      <td>00:09</td>\n",
       "    </tr>\n",
       "    <tr>\n",
       "      <td>32</td>\n",
       "      <td>102.003738</td>\n",
       "      <td>87.063278</td>\n",
       "      <td>-0.022691</td>\n",
       "      <td>9.328624</td>\n",
       "      <td>00:09</td>\n",
       "    </tr>\n",
       "    <tr>\n",
       "      <td>33</td>\n",
       "      <td>100.131378</td>\n",
       "      <td>91.170372</td>\n",
       "      <td>-0.071129</td>\n",
       "      <td>9.544710</td>\n",
       "      <td>00:09</td>\n",
       "    </tr>\n",
       "    <tr>\n",
       "      <td>34</td>\n",
       "      <td>101.587776</td>\n",
       "      <td>87.185669</td>\n",
       "      <td>-0.024000</td>\n",
       "      <td>9.335951</td>\n",
       "      <td>00:09</td>\n",
       "    </tr>\n",
       "    <tr>\n",
       "      <td>35</td>\n",
       "      <td>101.529991</td>\n",
       "      <td>89.654976</td>\n",
       "      <td>-0.052456</td>\n",
       "      <td>9.468628</td>\n",
       "      <td>00:09</td>\n",
       "    </tr>\n",
       "    <tr>\n",
       "      <td>36</td>\n",
       "      <td>103.552231</td>\n",
       "      <td>88.647324</td>\n",
       "      <td>-0.041349</td>\n",
       "      <td>9.412759</td>\n",
       "      <td>00:09</td>\n",
       "    </tr>\n",
       "    <tr>\n",
       "      <td>37</td>\n",
       "      <td>101.752731</td>\n",
       "      <td>100.033089</td>\n",
       "      <td>-0.173907</td>\n",
       "      <td>10.000867</td>\n",
       "      <td>00:09</td>\n",
       "    </tr>\n",
       "    <tr>\n",
       "      <td>38</td>\n",
       "      <td>103.930588</td>\n",
       "      <td>110.507698</td>\n",
       "      <td>-0.296409</td>\n",
       "      <td>10.509066</td>\n",
       "      <td>00:09</td>\n",
       "    </tr>\n",
       "    <tr>\n",
       "      <td>39</td>\n",
       "      <td>99.531975</td>\n",
       "      <td>94.553024</td>\n",
       "      <td>-0.109014</td>\n",
       "      <td>9.718703</td>\n",
       "      <td>00:09</td>\n",
       "    </tr>\n",
       "    <tr>\n",
       "      <td>40</td>\n",
       "      <td>100.380905</td>\n",
       "      <td>92.401169</td>\n",
       "      <td>-0.084827</td>\n",
       "      <td>9.612494</td>\n",
       "      <td>00:09</td>\n",
       "    </tr>\n",
       "    <tr>\n",
       "      <td>41</td>\n",
       "      <td>98.632072</td>\n",
       "      <td>91.250748</td>\n",
       "      <td>-0.071632</td>\n",
       "      <td>9.551641</td>\n",
       "      <td>00:09</td>\n",
       "    </tr>\n",
       "    <tr>\n",
       "      <td>42</td>\n",
       "      <td>99.158409</td>\n",
       "      <td>94.482147</td>\n",
       "      <td>-0.109074</td>\n",
       "      <td>9.720165</td>\n",
       "      <td>00:09</td>\n",
       "    </tr>\n",
       "    <tr>\n",
       "      <td>43</td>\n",
       "      <td>100.753960</td>\n",
       "      <td>96.353447</td>\n",
       "      <td>-0.131569</td>\n",
       "      <td>9.815022</td>\n",
       "      <td>00:09</td>\n",
       "    </tr>\n",
       "    <tr>\n",
       "      <td>44</td>\n",
       "      <td>102.639008</td>\n",
       "      <td>94.702065</td>\n",
       "      <td>-0.111509</td>\n",
       "      <td>9.731246</td>\n",
       "      <td>00:10</td>\n",
       "    </tr>\n",
       "    <tr>\n",
       "      <td>45</td>\n",
       "      <td>101.387344</td>\n",
       "      <td>93.962799</td>\n",
       "      <td>-0.103145</td>\n",
       "      <td>9.693399</td>\n",
       "      <td>00:09</td>\n",
       "    </tr>\n",
       "    <tr>\n",
       "      <td>46</td>\n",
       "      <td>102.229622</td>\n",
       "      <td>96.535072</td>\n",
       "      <td>-0.132956</td>\n",
       "      <td>9.824799</td>\n",
       "      <td>00:09</td>\n",
       "    </tr>\n",
       "    <tr>\n",
       "      <td>47</td>\n",
       "      <td>104.232765</td>\n",
       "      <td>424.867920</td>\n",
       "      <td>-4.151846</td>\n",
       "      <td>14.586715</td>\n",
       "      <td>00:09</td>\n",
       "    </tr>\n",
       "    <tr>\n",
       "      <td>48</td>\n",
       "      <td>99.522614</td>\n",
       "      <td>94.401520</td>\n",
       "      <td>-0.108203</td>\n",
       "      <td>9.716043</td>\n",
       "      <td>00:09</td>\n",
       "    </tr>\n",
       "    <tr>\n",
       "      <td>49</td>\n",
       "      <td>100.581787</td>\n",
       "      <td>106.421440</td>\n",
       "      <td>-0.251192</td>\n",
       "      <td>10.302997</td>\n",
       "      <td>00:09</td>\n",
       "    </tr>\n",
       "  </tbody>\n",
       "</table>"
      ],
      "text/plain": [
       "<IPython.core.display.HTML object>"
      ]
     },
     "metadata": {},
     "output_type": "display_data"
    },
    {
     "data": {
      "text/html": [
       "\n",
       "<style>\n",
       "    /* Turns off some styling */\n",
       "    progress {\n",
       "        /* gets rid of default border in Firefox and Opera. */\n",
       "        border: none;\n",
       "        /* Needs to be in here for Safari polyfill so background images work as expected. */\n",
       "        background-size: auto;\n",
       "    }\n",
       "    progress:not([value]), progress:not([value])::-webkit-progress-bar {\n",
       "        background: repeating-linear-gradient(45deg, #7e7e7e, #7e7e7e 10px, #5c5c5c 10px, #5c5c5c 20px);\n",
       "    }\n",
       "    .progress-bar-interrupted, .progress-bar-interrupted::-webkit-progress-bar {\n",
       "        background: #F44336;\n",
       "    }\n",
       "</style>\n"
      ],
      "text/plain": [
       "<IPython.core.display.HTML object>"
      ]
     },
     "metadata": {},
     "output_type": "display_data"
    },
    {
     "data": {
      "text/html": [],
      "text/plain": [
       "<IPython.core.display.HTML object>"
      ]
     },
     "metadata": {},
     "output_type": "display_data"
    },
    {
     "data": {
      "text/html": [
       "\n",
       "<style>\n",
       "    /* Turns off some styling */\n",
       "    progress {\n",
       "        /* gets rid of default border in Firefox and Opera. */\n",
       "        border: none;\n",
       "        /* Needs to be in here for Safari polyfill so background images work as expected. */\n",
       "        background-size: auto;\n",
       "    }\n",
       "    progress:not([value]), progress:not([value])::-webkit-progress-bar {\n",
       "        background: repeating-linear-gradient(45deg, #7e7e7e, #7e7e7e 10px, #5c5c5c 10px, #5c5c5c 20px);\n",
       "    }\n",
       "    .progress-bar-interrupted, .progress-bar-interrupted::-webkit-progress-bar {\n",
       "        background: #F44336;\n",
       "    }\n",
       "</style>\n"
      ],
      "text/plain": [
       "<IPython.core.display.HTML object>"
      ]
     },
     "metadata": {},
     "output_type": "display_data"
    },
    {
     "data": {
      "text/html": [],
      "text/plain": [
       "<IPython.core.display.HTML object>"
      ]
     },
     "metadata": {},
     "output_type": "display_data"
    },
    {
     "data": {
      "text/html": [
       "\n",
       "<style>\n",
       "    /* Turns off some styling */\n",
       "    progress {\n",
       "        /* gets rid of default border in Firefox and Opera. */\n",
       "        border: none;\n",
       "        /* Needs to be in here for Safari polyfill so background images work as expected. */\n",
       "        background-size: auto;\n",
       "    }\n",
       "    progress:not([value]), progress:not([value])::-webkit-progress-bar {\n",
       "        background: repeating-linear-gradient(45deg, #7e7e7e, #7e7e7e 10px, #5c5c5c 10px, #5c5c5c 20px);\n",
       "    }\n",
       "    .progress-bar-interrupted, .progress-bar-interrupted::-webkit-progress-bar {\n",
       "        background: #F44336;\n",
       "    }\n",
       "</style>\n"
      ],
      "text/plain": [
       "<IPython.core.display.HTML object>"
      ]
     },
     "metadata": {},
     "output_type": "display_data"
    },
    {
     "data": {
      "text/html": [],
      "text/plain": [
       "<IPython.core.display.HTML object>"
      ]
     },
     "metadata": {},
     "output_type": "display_data"
    },
    {
     "data": {
      "text/html": [
       "\n",
       "<style>\n",
       "    /* Turns off some styling */\n",
       "    progress {\n",
       "        /* gets rid of default border in Firefox and Opera. */\n",
       "        border: none;\n",
       "        /* Needs to be in here for Safari polyfill so background images work as expected. */\n",
       "        background-size: auto;\n",
       "    }\n",
       "    progress:not([value]), progress:not([value])::-webkit-progress-bar {\n",
       "        background: repeating-linear-gradient(45deg, #7e7e7e, #7e7e7e 10px, #5c5c5c 10px, #5c5c5c 20px);\n",
       "    }\n",
       "    .progress-bar-interrupted, .progress-bar-interrupted::-webkit-progress-bar {\n",
       "        background: #F44336;\n",
       "    }\n",
       "</style>\n"
      ],
      "text/plain": [
       "<IPython.core.display.HTML object>"
      ]
     },
     "metadata": {},
     "output_type": "display_data"
    },
    {
     "data": {
      "text/html": [],
      "text/plain": [
       "<IPython.core.display.HTML object>"
      ]
     },
     "metadata": {},
     "output_type": "display_data"
    },
    {
     "data": {
      "text/html": [
       "\n",
       "<style>\n",
       "    /* Turns off some styling */\n",
       "    progress {\n",
       "        /* gets rid of default border in Firefox and Opera. */\n",
       "        border: none;\n",
       "        /* Needs to be in here for Safari polyfill so background images work as expected. */\n",
       "        background-size: auto;\n",
       "    }\n",
       "    progress:not([value]), progress:not([value])::-webkit-progress-bar {\n",
       "        background: repeating-linear-gradient(45deg, #7e7e7e, #7e7e7e 10px, #5c5c5c 10px, #5c5c5c 20px);\n",
       "    }\n",
       "    .progress-bar-interrupted, .progress-bar-interrupted::-webkit-progress-bar {\n",
       "        background: #F44336;\n",
       "    }\n",
       "</style>\n"
      ],
      "text/plain": [
       "<IPython.core.display.HTML object>"
      ]
     },
     "metadata": {},
     "output_type": "display_data"
    },
    {
     "data": {
      "text/html": [],
      "text/plain": [
       "<IPython.core.display.HTML object>"
      ]
     },
     "metadata": {},
     "output_type": "display_data"
    },
    {
     "data": {
      "text/html": [
       "\n",
       "<style>\n",
       "    /* Turns off some styling */\n",
       "    progress {\n",
       "        /* gets rid of default border in Firefox and Opera. */\n",
       "        border: none;\n",
       "        /* Needs to be in here for Safari polyfill so background images work as expected. */\n",
       "        background-size: auto;\n",
       "    }\n",
       "    progress:not([value]), progress:not([value])::-webkit-progress-bar {\n",
       "        background: repeating-linear-gradient(45deg, #7e7e7e, #7e7e7e 10px, #5c5c5c 10px, #5c5c5c 20px);\n",
       "    }\n",
       "    .progress-bar-interrupted, .progress-bar-interrupted::-webkit-progress-bar {\n",
       "        background: #F44336;\n",
       "    }\n",
       "</style>\n"
      ],
      "text/plain": [
       "<IPython.core.display.HTML object>"
      ]
     },
     "metadata": {},
     "output_type": "display_data"
    },
    {
     "data": {
      "text/html": [],
      "text/plain": [
       "<IPython.core.display.HTML object>"
      ]
     },
     "metadata": {},
     "output_type": "display_data"
    },
    {
     "data": {
      "text/html": [
       "\n",
       "<style>\n",
       "    /* Turns off some styling */\n",
       "    progress {\n",
       "        /* gets rid of default border in Firefox and Opera. */\n",
       "        border: none;\n",
       "        /* Needs to be in here for Safari polyfill so background images work as expected. */\n",
       "        background-size: auto;\n",
       "    }\n",
       "    progress:not([value]), progress:not([value])::-webkit-progress-bar {\n",
       "        background: repeating-linear-gradient(45deg, #7e7e7e, #7e7e7e 10px, #5c5c5c 10px, #5c5c5c 20px);\n",
       "    }\n",
       "    .progress-bar-interrupted, .progress-bar-interrupted::-webkit-progress-bar {\n",
       "        background: #F44336;\n",
       "    }\n",
       "</style>\n"
      ],
      "text/plain": [
       "<IPython.core.display.HTML object>"
      ]
     },
     "metadata": {},
     "output_type": "display_data"
    },
    {
     "data": {
      "text/html": [],
      "text/plain": [
       "<IPython.core.display.HTML object>"
      ]
     },
     "metadata": {},
     "output_type": "display_data"
    },
    {
     "data": {
      "text/html": [
       "\n",
       "<style>\n",
       "    /* Turns off some styling */\n",
       "    progress {\n",
       "        /* gets rid of default border in Firefox and Opera. */\n",
       "        border: none;\n",
       "        /* Needs to be in here for Safari polyfill so background images work as expected. */\n",
       "        background-size: auto;\n",
       "    }\n",
       "    progress:not([value]), progress:not([value])::-webkit-progress-bar {\n",
       "        background: repeating-linear-gradient(45deg, #7e7e7e, #7e7e7e 10px, #5c5c5c 10px, #5c5c5c 20px);\n",
       "    }\n",
       "    .progress-bar-interrupted, .progress-bar-interrupted::-webkit-progress-bar {\n",
       "        background: #F44336;\n",
       "    }\n",
       "</style>\n"
      ],
      "text/plain": [
       "<IPython.core.display.HTML object>"
      ]
     },
     "metadata": {},
     "output_type": "display_data"
    },
    {
     "data": {
      "text/html": [],
      "text/plain": [
       "<IPython.core.display.HTML object>"
      ]
     },
     "metadata": {},
     "output_type": "display_data"
    },
    {
     "data": {
      "text/html": [
       "\n",
       "<style>\n",
       "    /* Turns off some styling */\n",
       "    progress {\n",
       "        /* gets rid of default border in Firefox and Opera. */\n",
       "        border: none;\n",
       "        /* Needs to be in here for Safari polyfill so background images work as expected. */\n",
       "        background-size: auto;\n",
       "    }\n",
       "    progress:not([value]), progress:not([value])::-webkit-progress-bar {\n",
       "        background: repeating-linear-gradient(45deg, #7e7e7e, #7e7e7e 10px, #5c5c5c 10px, #5c5c5c 20px);\n",
       "    }\n",
       "    .progress-bar-interrupted, .progress-bar-interrupted::-webkit-progress-bar {\n",
       "        background: #F44336;\n",
       "    }\n",
       "</style>\n"
      ],
      "text/plain": [
       "<IPython.core.display.HTML object>"
      ]
     },
     "metadata": {},
     "output_type": "display_data"
    },
    {
     "data": {
      "text/html": [],
      "text/plain": [
       "<IPython.core.display.HTML object>"
      ]
     },
     "metadata": {},
     "output_type": "display_data"
    },
    {
     "data": {
      "text/html": [
       "\n",
       "<style>\n",
       "    /* Turns off some styling */\n",
       "    progress {\n",
       "        /* gets rid of default border in Firefox and Opera. */\n",
       "        border: none;\n",
       "        /* Needs to be in here for Safari polyfill so background images work as expected. */\n",
       "        background-size: auto;\n",
       "    }\n",
       "    progress:not([value]), progress:not([value])::-webkit-progress-bar {\n",
       "        background: repeating-linear-gradient(45deg, #7e7e7e, #7e7e7e 10px, #5c5c5c 10px, #5c5c5c 20px);\n",
       "    }\n",
       "    .progress-bar-interrupted, .progress-bar-interrupted::-webkit-progress-bar {\n",
       "        background: #F44336;\n",
       "    }\n",
       "</style>\n"
      ],
      "text/plain": [
       "<IPython.core.display.HTML object>"
      ]
     },
     "metadata": {},
     "output_type": "display_data"
    },
    {
     "data": {
      "text/html": [],
      "text/plain": [
       "<IPython.core.display.HTML object>"
      ]
     },
     "metadata": {},
     "output_type": "display_data"
    },
    {
     "data": {
      "text/html": [
       "\n",
       "<style>\n",
       "    /* Turns off some styling */\n",
       "    progress {\n",
       "        /* gets rid of default border in Firefox and Opera. */\n",
       "        border: none;\n",
       "        /* Needs to be in here for Safari polyfill so background images work as expected. */\n",
       "        background-size: auto;\n",
       "    }\n",
       "    progress:not([value]), progress:not([value])::-webkit-progress-bar {\n",
       "        background: repeating-linear-gradient(45deg, #7e7e7e, #7e7e7e 10px, #5c5c5c 10px, #5c5c5c 20px);\n",
       "    }\n",
       "    .progress-bar-interrupted, .progress-bar-interrupted::-webkit-progress-bar {\n",
       "        background: #F44336;\n",
       "    }\n",
       "</style>\n"
      ],
      "text/plain": [
       "<IPython.core.display.HTML object>"
      ]
     },
     "metadata": {},
     "output_type": "display_data"
    },
    {
     "data": {
      "text/html": [],
      "text/plain": [
       "<IPython.core.display.HTML object>"
      ]
     },
     "metadata": {},
     "output_type": "display_data"
    },
    {
     "data": {
      "text/html": [
       "\n",
       "<style>\n",
       "    /* Turns off some styling */\n",
       "    progress {\n",
       "        /* gets rid of default border in Firefox and Opera. */\n",
       "        border: none;\n",
       "        /* Needs to be in here for Safari polyfill so background images work as expected. */\n",
       "        background-size: auto;\n",
       "    }\n",
       "    progress:not([value]), progress:not([value])::-webkit-progress-bar {\n",
       "        background: repeating-linear-gradient(45deg, #7e7e7e, #7e7e7e 10px, #5c5c5c 10px, #5c5c5c 20px);\n",
       "    }\n",
       "    .progress-bar-interrupted, .progress-bar-interrupted::-webkit-progress-bar {\n",
       "        background: #F44336;\n",
       "    }\n",
       "</style>\n"
      ],
      "text/plain": [
       "<IPython.core.display.HTML object>"
      ]
     },
     "metadata": {},
     "output_type": "display_data"
    },
    {
     "data": {
      "text/html": [],
      "text/plain": [
       "<IPython.core.display.HTML object>"
      ]
     },
     "metadata": {},
     "output_type": "display_data"
    },
    {
     "data": {
      "text/html": [
       "\n",
       "<style>\n",
       "    /* Turns off some styling */\n",
       "    progress {\n",
       "        /* gets rid of default border in Firefox and Opera. */\n",
       "        border: none;\n",
       "        /* Needs to be in here for Safari polyfill so background images work as expected. */\n",
       "        background-size: auto;\n",
       "    }\n",
       "    progress:not([value]), progress:not([value])::-webkit-progress-bar {\n",
       "        background: repeating-linear-gradient(45deg, #7e7e7e, #7e7e7e 10px, #5c5c5c 10px, #5c5c5c 20px);\n",
       "    }\n",
       "    .progress-bar-interrupted, .progress-bar-interrupted::-webkit-progress-bar {\n",
       "        background: #F44336;\n",
       "    }\n",
       "</style>\n"
      ],
      "text/plain": [
       "<IPython.core.display.HTML object>"
      ]
     },
     "metadata": {},
     "output_type": "display_data"
    },
    {
     "data": {
      "text/html": [],
      "text/plain": [
       "<IPython.core.display.HTML object>"
      ]
     },
     "metadata": {},
     "output_type": "display_data"
    },
    {
     "data": {
      "text/html": [
       "\n",
       "<style>\n",
       "    /* Turns off some styling */\n",
       "    progress {\n",
       "        /* gets rid of default border in Firefox and Opera. */\n",
       "        border: none;\n",
       "        /* Needs to be in here for Safari polyfill so background images work as expected. */\n",
       "        background-size: auto;\n",
       "    }\n",
       "    progress:not([value]), progress:not([value])::-webkit-progress-bar {\n",
       "        background: repeating-linear-gradient(45deg, #7e7e7e, #7e7e7e 10px, #5c5c5c 10px, #5c5c5c 20px);\n",
       "    }\n",
       "    .progress-bar-interrupted, .progress-bar-interrupted::-webkit-progress-bar {\n",
       "        background: #F44336;\n",
       "    }\n",
       "</style>\n"
      ],
      "text/plain": [
       "<IPython.core.display.HTML object>"
      ]
     },
     "metadata": {},
     "output_type": "display_data"
    },
    {
     "data": {
      "text/html": [],
      "text/plain": [
       "<IPython.core.display.HTML object>"
      ]
     },
     "metadata": {},
     "output_type": "display_data"
    },
    {
     "data": {
      "text/html": [
       "\n",
       "<style>\n",
       "    /* Turns off some styling */\n",
       "    progress {\n",
       "        /* gets rid of default border in Firefox and Opera. */\n",
       "        border: none;\n",
       "        /* Needs to be in here for Safari polyfill so background images work as expected. */\n",
       "        background-size: auto;\n",
       "    }\n",
       "    progress:not([value]), progress:not([value])::-webkit-progress-bar {\n",
       "        background: repeating-linear-gradient(45deg, #7e7e7e, #7e7e7e 10px, #5c5c5c 10px, #5c5c5c 20px);\n",
       "    }\n",
       "    .progress-bar-interrupted, .progress-bar-interrupted::-webkit-progress-bar {\n",
       "        background: #F44336;\n",
       "    }\n",
       "</style>\n"
      ],
      "text/plain": [
       "<IPython.core.display.HTML object>"
      ]
     },
     "metadata": {},
     "output_type": "display_data"
    },
    {
     "data": {
      "text/html": [],
      "text/plain": [
       "<IPython.core.display.HTML object>"
      ]
     },
     "metadata": {},
     "output_type": "display_data"
    },
    {
     "name": "stdout",
     "output_type": "stream",
     "text": [
      "Test Set (Canonical)\n",
      "RMSE: tensor(10.2391)\n",
      "MAE: tensor(8.5431)\n",
      "R2: tensor(-0.0857)\n",
      "Test Set (Average)\n",
      "RMSE: tensor(9.6576)\n",
      "R2: tensor(0.0341)\n",
      "MAE: tensor(8.1038)\n",
      "           0\n",
      "0    70.9612\n",
      "1    71.4147\n",
      "2    72.2161\n",
      "3    71.0063\n",
      "4    70.6328\n",
      "..       ...\n",
      "137  71.4580\n",
      "138  71.9054\n",
      "139  72.2900\n",
      "140  72.4284\n",
      "141  70.7475\n",
      "\n",
      "[142 rows x 1 columns]\n",
      "[['O=C(C(F)OC1=C(C#N)C=CC=C1)N(C)C2=CC(F)=CC=C2.C=CC(OCC)=O.CC(=O)[O-].CC(=O)[O-].[Pd+2].CC(=O)NCC(=O)O.CC(=O)[O-].[Ag+].OC(C(F)(F)F)C(F)(F)F'\n",
      "  84 70.9612]\n",
      " ['O=S(CC1=CC=CC=C1)(OC2=C(C#N)C=CC=C2)=O.O=C(/C=C\\\\C(OC)=O)OC.CC(=O)[O-].CC(=O)[O-].[Pd+2].CC(=O)NCC(=O)O.C(=O)([O-])[O-].[Ag+].[Ag+].OC(C(F)(F)F)C(F)(F)F'\n",
      "  74 71.4147]\n",
      " ['O=P(OC1=C(C#N)C=CC=C1)(OCC)CC2=CC=CC=C2.C=CS(=O)(C1=CC=CC=C1)=O.CC(=O)[O-].CC(=O)[O-].[Pd+2].CC(N[C@H](C(O)=O)CC1=CC=CC=C1)=O.C(=O)([O-])[O-].[Ag+].[Ag+].OC(C(F)(F)F)C(F)(F)F'\n",
      "  75 72.2161]\n",
      " ['O=C(N(C1=CC=CC=C1C(O)=O)C)CCC2=CC(C)=CC=C2.C=CC1=C(F)C(F)=C(F)C(F)=C1F.CC(=O)[O-].CC(=O)[O-].[Pd+2].O=C(O)C(NC(=O)C)CC=1C=CC=CC1.CC(C)(C)C(=O)[O-].[Ag+].C(C(F)(F)F)(C(F)(F)F)O'\n",
      "  67 71.0063]\n",
      " ...\n",
      " ['CC(C(C=C1C(C)(C)C)=CC(C(CC(C)C)(CC(C)C)C#N)=C1OCC2=CC(C)=CC=C2)(C)C.O=C(/C=C\\\\C1=CC=CC=C1)OC.CC(C)(C)C(=O)[O-].CC(C)(C)C(=O)[O-].[Pd+2].O=C([O-])C(C)(C)C.[Ag+].ClCCCl'\n",
      "  63 71.9054]\n",
      " ['N#CC(C=C(OC)C=C1)=C1OCCCC2=CC=CC=C2.C=CC(OCC)=O.CC(=O)[O-].CC(=O)[O-].[Pd+2].CC(=O)NCC(=O)O.CC(=O)[O-].[Ag+].OC(C(F)(F)F)C(F)(F)F'\n",
      "  81 72.29]\n",
      " ['O=C(N(C1=CC=CC=C1C#N)C2=CC=CC=C2C#N)C(C)(C)OC3=C(C)C(C)=CC=C3.C=CC(OCC)=O.CC(=O)[O-].CC(=O)[O-].[Pd+2].CC(=O)NCC(=O)O.CC(=O)[O-].[Ag+].OC(C(F)(F)F)C(F)(F)F'\n",
      "  87 72.4284]\n",
      " ['O=C(N(C1=CC=CC=C1F)C2=C(C#N)C=CC=C2)CC(C)C3=C(C(F)(F)F)C=CC=C3.C=CC(OCC)=O.Cl[Rh]Cl.Cl[Rh]Cl.C[C]1[C](C)[C](C)[C](C)[C]1C.C[C]2[C](C)[C](C)[C](C)[C]2C.FC(F)(C(O)=O)F.O.FC(F)(F)C(=O)O[Cu]OC(=O)C(F)(F)F.ClCCCl'\n",
      "  55 70.7475]]\n"
     ]
    }
   ],
   "source": [
    "# Define a function to process a single sheet\n",
    "def process_sheet(sheet_name):\n",
    "    df = pd.read_excel('./Data/C-H-activation/regression/mean-std/866-711-1-mean-std-CV1-20.xlsx', sheet_name=sheet_name)\n",
    "    df = df[['smiles', 'Yield']]\n",
    "    df['Yield'] = [int(i) for i in df['Yield']]\n",
    "    \n",
    "    train = df.iloc[:498, :]\n",
    "    valid = df.iloc[498:569, :]\n",
    "    test = df.iloc[569:, :]\n",
    "    \n",
    "    random_seed(1234, True)\n",
    "\n",
    "    train_aug = ee_smiles_augmentation(train, 25, noise=0.2)\n",
    "    print(\"Train_aug: \", train_aug.shape)\n",
    "    \n",
    "\n",
    "        \n",
    "    bs = 64\n",
    "    tok = Tokenizer(partial(MolTokenizer, special_tokens = special_tokens), n_cpus=6, pre_rules=[], post_rules=[])\n",
    "        \n",
    "    np.warnings.filterwarnings('ignore', category=np.VisibleDeprecationWarning)\n",
    "    random_seed(1234, True)\n",
    "        \n",
    "    lm_vocab = TextLMDataBunch.from_df(path, train_aug, valid, bs=bs, tokenizer=tok,\n",
    "                              chunksize=50000, text_cols=0,label_cols=1, max_vocab=60000, include_bos=False, min_freq=1, num_workers=0)\n",
    "    print(f'Vocab Size: {len(lm_vocab.vocab.itos)}')\n",
    "    \n",
    "    pretrained_model_path = Path('./Pretraining_weights_bias/SSP1/models/')\n",
    "    pretrained_fnames = ['C-H-activation_100_wt', 'C-H-activation_100_vocab']\n",
    "    fnames = [pretrained_model_path/f'{fn}.{ext}' for fn,ext in zip(pretrained_fnames, ['pth', 'pkl'])]\n",
    "        \n",
    "    random_seed(1234, True)\n",
    "\n",
    "    data_clas = TextClasDataBunch.from_df(path, train_aug, valid, bs=bs, tokenizer=tok,\n",
    "                                                  chunksize=50000, text_cols='smiles',label_cols='Yield',\n",
    "                                                  vocab=lm_vocab.vocab, max_vocab=60000, include_bos=False, min_freq=1, num_workers=0)\n",
    "        \n",
    "    print(f'Vocab Size: {len(data_clas.vocab.itos)}')\n",
    "        \n",
    "    random_seed(1234, True)\n",
    "\n",
    "    lm_learner = language_model_learner(lm_vocab, AWD_LSTM, drop_mult=0.5, wd=0, pretrained=False)\n",
    "    lm_learner = lm_learner.load_pretrained(*fnames)\n",
    "    lm_learner.freeze()\n",
    "    lm_learner.save_encoder(f'lm_encoder') \n",
    "        \n",
    "    random_seed(1234, True)\n",
    "\n",
    "    reg_learner = text_classifier_learner(data_clas, AWD_LSTM, pretrained=False, drop_mult=0.5, wd=0, metrics = [r2_score, rmse])\n",
    "    reg_learner.load_encoder(f'lm_encoder')\n",
    "    reg_learner.freeze()  \n",
    "        \n",
    "    reg_learner.model\n",
    "        \n",
    "    random_seed(1234, True)\n",
    "\n",
    "    reg_learner.unfreeze()\n",
    "    reg_learner.fit_one_cycle(50, 0.005, moms=(0.8,0.7))\n",
    "        \n",
    "    split_id = 1\n",
    "    reg_learner.save(f'{split_id}_reg-711-p3-aug')\n",
    "        \n",
    "    preds = []\n",
    "\n",
    "    # Randomized SMILES Predictions\n",
    "    for i in range(4):\n",
    "        np.random.seed(i)\n",
    "        test_aug = test_smiles_augmentation(test,1)\n",
    "        \n",
    "        #model\n",
    "        test_db = TextClasDataBunch.from_df(path, train_aug, test_aug, tokenizer=tok, vocab=lm_vocab.vocab,\n",
    "                                                    text_cols='smiles', label_cols='Yield', bs=bs, include_bos=False)\n",
    "        \n",
    "        learner = text_classifier_learner(test_db, AWD_LSTM, pretrained=False, drop_mult=0.5, wd=0, metrics = [r2_score, root_mean_squared_error])\n",
    "        #print(test_db)\n",
    "        learner.load(f'{split_id}_reg-711-p3-aug');\n",
    "        \n",
    "        #get predictions\n",
    "        pred,lbl = learner.get_preds(ds_type=DatasetType.Valid)\n",
    "        \n",
    "        preds.append(pred)\n",
    "        \n",
    "    # Canonical SMILES Predictions\n",
    "    test_db = TextClasDataBunch.from_df(path, train_aug, test, bs=bs, tokenizer=tok,\n",
    "                                      chunksize=50000, text_cols='smiles',label_cols='Yield', vocab=lm_vocab.vocab, max_vocab=60000,\n",
    "                                                      include_bos=False)\n",
    "        \n",
    "    learner = text_classifier_learner(test_db, AWD_LSTM, pretrained=False, drop_mult=0.5, wd=0, metrics = [r2_score, root_mean_squared_error])\n",
    "        \n",
    "    learner.load(f'{split_id}_reg-711-p3-aug');\n",
    "        \n",
    "        \n",
    "    #get predictions\n",
    "    pred_canonical,lbl = learner.get_preds(ds_type=DatasetType.Valid)\n",
    "        \n",
    "    preds.append(pred_canonical)\n",
    "    \n",
    "    print('Test Set (Canonical)')\n",
    "    print('RMSE:', root_mean_squared_error(pred_canonical,lbl))\n",
    "    print('MAE:', mean_absolute_error(pred_canonical,lbl))\n",
    "    print('R2:', r2_score(pred_canonical,lbl))\n",
    "    avg_preds = sum(preds)/len(preds)\n",
    "    #print('\\n')\n",
    "    print('Test Set (Average)')\n",
    "    print('RMSE:', root_mean_squared_error(avg_preds,lbl))\n",
    "    print('R2:', r2_score(avg_preds,lbl))\n",
    "    print('MAE:', mean_absolute_error(avg_preds,lbl))\n",
    "    \n",
    "    pred1=pd.DataFrame(pred)\n",
    "    def remove_tensor(x):\n",
    "        return float(str(x).replace('tensor(', '').replace(')', ''))\n",
    "    pred1 = pred1.applymap(remove_tensor)\n",
    "    print(pred1)\n",
    "        \n",
    "    # Concatenate the two arrays column-wise\n",
    "    concatenated_arr = np.column_stack((test, pred1))\n",
    "        \n",
    "    # Print the result\n",
    "    print(concatenated_arr)\n",
    "        \n",
    "    a1=pd.DataFrame(concatenated_arr)\n",
    "    \n",
    "        \n",
    "# Loop through all sheet names and process each sheet\n",
    "for sheet_num in range(1, 21):  # Assuming sheet names are FullCV_1, FullCV_2, ..., FullCV_20\n",
    "    sheet_name = f'FullCV_{sheet_num}'\n",
    "    print(f\"Processing sheet: {sheet_name}\")\n",
    "    process_sheet(sheet_name)\n",
    "        "
   ]
  },
  {
   "cell_type": "code",
   "execution_count": null,
   "id": "1cab902d-eb55-46bd-b96e-48cf1bf18b7c",
   "metadata": {},
   "outputs": [],
   "source": []
  },
  {
   "cell_type": "code",
   "execution_count": null,
   "id": "5625cc33-7887-4350-a9fa-1159d8a6ea9a",
   "metadata": {},
   "outputs": [],
   "source": []
  },
  {
   "cell_type": "code",
   "execution_count": null,
   "id": "f62a8ec8-6a16-454c-b2b8-0ef0d9c558f2",
   "metadata": {},
   "outputs": [],
   "source": []
  }
 ],
 "metadata": {
  "kernelspec": {
   "display_name": "ulmfit",
   "language": "python",
   "name": "ulmfit"
  },
  "language_info": {
   "codemirror_mode": {
    "name": "ipython",
    "version": 3
   },
   "file_extension": ".py",
   "mimetype": "text/x-python",
   "name": "python",
   "nbconvert_exporter": "python",
   "pygments_lexer": "ipython3",
   "version": "3.7.12"
  }
 },
 "nbformat": 4,
 "nbformat_minor": 5
}
