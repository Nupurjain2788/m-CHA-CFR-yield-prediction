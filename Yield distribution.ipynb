{
 "cells": [
  {
   "cell_type": "code",
   "execution_count": null,
   "metadata": {
    "id": "pOFG6krFVDRl"
   },
   "outputs": [],
   "source": [
    "import pandas as pd\n",
    "import seaborn as sns\n",
    "import matplotlib.pyplot as plt\n",
    "\n",
    "df1 = pd.read_csv('/content/BH-reaction-mean.csv')\n",
    "df2 = pd.read_csv('/content/866-reaction-yield-label.csv')\n",
    "df4 = pd.read_csv('/content/SC-yield.csv')\n",
    "\n",
    "# Rename the \"yield\" column to \"Yield\" in df1\n",
    "df1 = df1.rename(columns={\"yield\": \"Yield\"})\n",
    "\n",
    "# Add a 'Dataset' column to each dataframe to identify the source\n",
    "df1['Dataset'] = 'Buchwald Hartwig'\n",
    "df2['Dataset'] = 'Meta C-H activation'\n",
    "df4['Dataset'] = 'Suzuki coupling'\n",
    "\n",
    "custom_palette = [\"#FF5733\", \"#334BFF\", \"#2CA02C\"]\n",
    "# Create individual histogram plots for each dataset\n",
    "datasets = [df1, df2, df4]\n",
    "dataset_names = [\"Buchwald Hartwig HTE\", \"Meta C(sp2)-H activation\", \"Suzuki HTE\"]\n",
    "\n",
    "plt.figure(figsize=(6, 4))\n",
    "\n",
    "for dataset, name, color in zip(datasets, dataset_names, custom_palette):\n",
    "    plt.figure(figsize=(6, 4), tight_layout=True, dpi=300)\n",
    "    sns.histplot(data=dataset, x=\"Yield\", element=\"step\", common_norm=False, color=color)\n",
    "\n",
    "    # Add labels and title\n",
    "    plt.xlabel(\"% yield\")\n",
    "    plt.ylabel(\"frequency\")\n",
    "    #plt.title(f\"yield distribution for {name}\")\n",
    "\n",
    "    # Save the plot\n",
    "    plt.savefig(f\"{name}_yield_distribution.png\", dpi=300)\n",
    "\n",
    "    # Show the plot\n",
    "    plt.show()\n"
   ]
  }
 ],
 "metadata": {
  "colab": {
   "authorship_tag": "ABX9TyPpmQrhSZyjEINtFaMXZxBd",
   "provenance": []
  },
  "kernelspec": {
   "display_name": "Python 3 (ipykernel)",
   "language": "python",
   "name": "python3"
  },
  "language_info": {
   "codemirror_mode": {
    "name": "ipython",
    "version": 3
   },
   "file_extension": ".py",
   "mimetype": "text/x-python",
   "name": "python",
   "nbconvert_exporter": "python",
   "pygments_lexer": "ipython3",
   "version": "3.9.19"
  }
 },
 "nbformat": 4,
 "nbformat_minor": 4
}
